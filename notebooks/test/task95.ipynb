{
 "cells": [
  {
   "cell_type": "markdown",
   "id": "a2c02040-626e-4d5d-9c17-887edeaf5ff4",
   "metadata": {},
   "source": [
    "### Task 95: Graph interest rate from providing CPT liquidity\n",
    "* Graph the interest earned in the base balance of both assets in a CPT liquidity pool. The graph should show the following information"
   ]
  },
  {
   "cell_type": "code",
   "execution_count": 1,
   "id": "d204f26d-16a3-41c6-a7d0-5b247a4335c0",
   "metadata": {},
   "outputs": [],
   "source": [
    "import os\n",
    "import copy\n",
    "import numpy as np\n",
    "import time\n",
    "import matplotlib.pyplot as plt\n",
    "cwd =  os.getcwd().replace(\"notebooks/test\",\"\")\n",
    "os.chdir(cwd)\n",
    "\n",
    "from python.dev.event import Deposit\n",
    "from python.dev.event import Withdraw\n",
    "from python.dev.cpt import Liquidity\n",
    "from python.dev.token import RebaseToken\n",
    "from python.dev.token import Token\n",
    "from python.dev.math.model import TimeDeltaModel\n",
    "from python.dev.math.model import TokenDeltaModel"
   ]
  },
  {
   "cell_type": "code",
   "execution_count": 2,
   "id": "2462ea90-2e0f-4f12-8a95-5200c1c06736",
   "metadata": {},
   "outputs": [],
   "source": [
    "time0 = time.time()\n",
    "N_TOKENS = 2"
   ]
  },
  {
   "cell_type": "markdown",
   "id": "d7721420-0243-408d-a2ef-06a492359b31",
   "metadata": {},
   "source": [
    "### Part A: Simulation Run\n",
    "* Initialize Rebasing/NonRebasing Tokens"
   ]
  },
  {
   "cell_type": "code",
   "execution_count": null,
   "id": "69e7c9e4-213c-4dae-aa53-84124e061d09",
   "metadata": {},
   "outputs": [],
   "source": [
    "APY = 0.1\n",
    "TYPE_DEPOSIT_TOKEN = 'DEPOSIT'\n",
    "TOKEN = N_TOKENS * [None]\n",
    "ADDR = N_TOKENS * [None]\n",
    "deposit = 10000 \n",
    "\n",
    "TOKEN[0] = RebaseToken(TYPE_DEPOSIT_TOKEN)\n",
    "ADDR[0] = TOKEN[0].gen_address()\n",
    "TOKEN[0].init_token(time0, ADDR[0])\n",
    "TOKEN[0].add_event(Deposit(APY, deposit, 0, ADDR[0]))\n",
    "   \n",
    "TOKEN[1] = RebaseToken(TYPE_DEPOSIT_TOKEN)\n",
    "ADDR[1] = TOKEN[1].gen_address()\n",
    "TOKEN[1].init_token(time0, ADDR[1])\n",
    "TOKEN[1].add_event(Deposit(APY, deposit, 0, ADDR[1]))\n",
    "    \n",
    "x = TOKEN[0].get_balance_deposits()\n",
    "y = TOKEN[1].get_balance_deposits()\n",
    "\n",
    "# Initialize Liquidity Pool\n",
    "liq = Liquidity(x,y)"
   ]
  },
  {
   "cell_type": "markdown",
   "id": "bacaede0-fa22-47c6-842c-0868dd16f7fe",
   "metadata": {},
   "source": [
    "* Simulate Deposits"
   ]
  },
  {
   "cell_type": "code",
   "execution_count": null,
   "id": "a715d17c-1c7e-4d46-b38a-55e87bbbe8ad",
   "metadata": {},
   "outputs": [],
   "source": [
    "percent = 0.05\n",
    "N = 250\n",
    "prices_yx = N * [0]\n",
    "prices_xy = N * [0]\n",
    "\n",
    "for k in range(N):\n",
    "\n",
    "    token_delta = TokenDeltaModel(1,100).apply() \n",
    "    time_delta = TimeDeltaModel().apply() \n",
    "    TOKEN[0].add_event(Deposit(APY, token_delta, time_delta, ADDR[0]))\n",
    "\n",
    "    token_delta = TokenDeltaModel(1,100).apply() \n",
    "    time_delta = TimeDeltaModel().apply() \n",
    "    TOKEN[1].add_event(Deposit(APY, token_delta, time_delta, ADDR[1]))        \n",
    "        \n",
    "    T1_yield = TOKEN[0].get_state_series(ADDR[0]).get_last_state().get_yield()\n",
    "    T2_yield = TOKEN[1].get_state_series(ADDR[1]).get_last_state().get_yield()\n",
    "    \n",
    "    T1_delta = TOKEN[0].get_state_series(ADDR[0]).get_last_state().get_delta()\n",
    "    T2_delta = TOKEN[1].get_state_series(ADDR[1]).get_last_state().get_delta()\n",
    "        \n",
    "    x = TOKEN[0].get_balance_deposits()\n",
    "    y = TOKEN[1].get_balance_deposits()\n",
    "\n",
    "    liq.delta_x(T1_delta+T1_yield)\n",
    "    liq.delta_y(T2_delta+T2_yield)     \n",
    "    L = liq.calc()\n",
    "    prices_yx[k] = liq.get_swap_price(Liquidity.YX_PRICE)  \n",
    "    prices_xy[k] = liq.get_swap_price(Liquidity.XY_PRICE)\n",
    "    \n",
    "    if (k % int(N/(100*percent)) == 0):\n",
    "        out_str = '[SIM {}]'.format(k)\n",
    "        for k in range(N_TOKENS):\n",
    "            amt = TOKEN[k].get_balance_deposits()\n",
    "            out_str = out_str+' T{}: {:.2f}'.format(k+1,amt)\n",
    "            \n",
    "        print(out_str) \n",
    "        "
   ]
  },
  {
   "cell_type": "markdown",
   "id": "a63e7a00-5c53-47a1-a4f6-a18ec47889a8",
   "metadata": {},
   "source": [
    "### Part B: Plot Simulated Output"
   ]
  },
  {
   "cell_type": "markdown",
   "id": "73e342a4-0ef2-48eb-b8a8-53c164cd5e8f",
   "metadata": {},
   "source": [
    "* Show the initial amounts of each asset deposited in liquidity"
   ]
  },
  {
   "cell_type": "code",
   "execution_count": null,
   "id": "75aa3707-2954-44eb-a4bd-0ecdc5b4e06d",
   "metadata": {},
   "outputs": [],
   "source": [
    "token_names = ['T'+str(k) for k in range(N_TOKENS)]\n",
    "inital_balances = N_TOKENS*[0]\n",
    "\n",
    "for k in range(N_TOKENS):\n",
    "    inital_balances[k] = TOKEN[k].get_state_series(ADDR[k]).get_state(0).get_balance()\n",
    "\n",
    "bar_width = 0.5\n",
    "x = np.arange(len(TOKEN))\n",
    "\n",
    "fig, (ax1) = plt.subplots(nrows=1, sharex=True, sharey=False, figsize=(12, 8))\n",
    "ax1.set_title(\"Initial token balances\", fontsize=20)\n",
    "ax1.set_ylabel('Balances', fontsize=16)\n",
    "b1 = ax1.bar(x, inital_balances, width=bar_width, label='initial')\n",
    "ax1.set_xticks(x)\n",
    "ax1.set_xticklabels(token_names)\n",
    "plt.legend()\n",
    "plt.show()\n"
   ]
  },
  {
   "cell_type": "markdown",
   "id": "8bb0938a-38f3-4c84-b372-03a5d6ea60a9",
   "metadata": {},
   "source": [
    "* Show the balances in liquidity of each asset at the end of a simulation run"
   ]
  },
  {
   "cell_type": "code",
   "execution_count": null,
   "id": "c075c60c-a4a0-4f56-a213-7ae0a19c9d37",
   "metadata": {},
   "outputs": [],
   "source": [
    "final_balances = [TOKEN[k].get_balance_deposits() for k in range(N_TOKENS)]\n",
    "bar_width = 0.2\n",
    "\n",
    "fig, (ax1) = plt.subplots(nrows=1, sharex=True, sharey=False, figsize=(12, 8))\n",
    "ax1.set_title(\"Final / initial token balances\", fontsize=20)\n",
    "ax1.set_ylabel('Balances', fontsize=16)\n",
    "b1 = ax1.bar(x, inital_balances, width=bar_width, label='initial')\n",
    "b2 = ax1.bar(x + bar_width, final_balances, width=bar_width, label='final')\n",
    "ax1.set_xticks(x + bar_width / 2)\n",
    "ax1.set_xticklabels(token_names)\n",
    "plt.legend()\n",
    "plt.show()\n"
   ]
  },
  {
   "cell_type": "markdown",
   "id": "19f0c738-fecb-4079-a526-e1fef9bb076a",
   "metadata": {},
   "source": [
    "* Show the base balance delta of each asset in liquidity at the end of a simulation run"
   ]
  },
  {
   "cell_type": "code",
   "execution_count": null,
   "id": "4dedbe99-2457-443e-9eee-2c6f2dda428c",
   "metadata": {},
   "outputs": [],
   "source": [
    "bar_width = 0.5\n",
    "delta_balances = [final_balances[k]-inital_balances[k] for k in range(N_TOKENS)]\n",
    "\n",
    "fig, (ax1) = plt.subplots(nrows=1, sharex=True, sharey=False, figsize=(12, 8))\n",
    "ax1.set_title(\"Delta token balances\", fontsize=20)\n",
    "ax1.set_ylabel('Balances', fontsize=16)\n",
    "b1 = ax1.bar(x, delta_balances, width=bar_width, label='delta')\n",
    "ax1.set_xticks(x)\n",
    "ax1.set_xticklabels(token_names)\n",
    "plt.legend()\n",
    "plt.show()\n"
   ]
  },
  {
   "cell_type": "markdown",
   "id": "84d38702-6ecf-4717-a32d-d6aeb068f6c5",
   "metadata": {},
   "source": [
    "* Show the base balance delta as a percentage change at the end of a simulation run"
   ]
  },
  {
   "cell_type": "code",
   "execution_count": null,
   "id": "9d452eaa-5e09-4b3d-8848-d5445481d972",
   "metadata": {},
   "outputs": [],
   "source": [
    "percentage_chg = [100*delta_balances[k]/inital_balances[k] for k in range(N_TOKENS)]\n",
    "    \n",
    "fig, (ax1) = plt.subplots(nrows=1, sharex=True, sharey=False, figsize=(12, 8))\n",
    "ax1.set_title(\"Percentage changes\", fontsize=20)\n",
    "ax1.set_ylabel('Percentage Chg (%)', fontsize=16)\n",
    "b1 = ax1.bar(x, percentage_chg, width=bar_width, label='% Chg')\n",
    "ax1.set_xticks(x)\n",
    "ax1.set_xticklabels(token_names)\n",
    "plt.legend()\n",
    "plt.show()    "
   ]
  },
  {
   "cell_type": "markdown",
   "id": "07e49767-b738-491f-b545-21eed04d9b96",
   "metadata": {},
   "source": [
    "* Show the price of each asset in the pool as priced against the other asset based on the liquidity at the end of a simulation run\n",
    "\n",
    "    * T1 should be priced in T2 based on the reserves of T1 and T2 in that liquidity pool\n",
    "    * T2 should be priced in T1 based on the reserves of T1 and T2 in that liquidity pool"
   ]
  },
  {
   "cell_type": "code",
   "execution_count": null,
   "id": "1dffcaeb-e79a-4999-8979-bd89194bc554",
   "metadata": {},
   "outputs": [],
   "source": [
    "T1_states = TOKEN[0].get_state_series(ADDR[0])\n",
    "tSamp = T1_states.get_tstamp()  \n",
    "\n",
    "fig, (p1_ax, p2_ax) = plt.subplots(nrows=2, sharex=True, sharey=False, figsize=(12, 10))\n",
    "\n",
    "p1_ax.plot(tSamp[1:], prices_yx, label='T2-T1') \n",
    "p1_ax.set_title(\"T2/T1 Price\", fontsize=20)\n",
    "p1_ax.set_ylabel(\"Price\", fontsize=16)\n",
    "p1_ax.set_xlabel('Time', fontsize=16)\n",
    "p1_ax.legend()\n",
    "\n",
    "p2_ax.plot(tSamp[1:], prices_xy, label='T1-T2') \n",
    "p2_ax.set_title(\"T1/T2 Price\", fontsize=20)\n",
    "p2_ax.set_ylabel(\"Price\", fontsize=16)\n",
    "p2_ax.set_xlabel('Time', fontsize=16)\n",
    "p2_ax.legend()\n"
   ]
  },
  {
   "cell_type": "markdown",
   "id": "9a343961-afc2-4ba8-b909-f8ed3c477dcd",
   "metadata": {},
   "source": [
    "* Show the interest earned as a percentage based on the price at the end of a simulation run compared to the price at initial listing"
   ]
  },
  {
   "cell_type": "code",
   "execution_count": null,
   "id": "edf637ba-9502-4173-8d68-4ae7408b2226",
   "metadata": {},
   "outputs": [],
   "source": [
    "T1_balance = TOKEN[0].get_state_series(ADDR[0]).get_balance()\n",
    "T1_principle = TOKEN[0].get_state_series(ADDR[0]).get_principle()\n",
    "T1_yield = [T1_balance[k] - T1_principle[k] for k in range(N)]\n",
    "tSamp = TOKEN[0].get_state_series(ADDR[0]).get_tstamp()  \n",
    "\n",
    "percent_yield = [100*T1_yield[k]/T1_balance[k] for k in range(N)]\n",
    "accumulated_t2 = [T1_yield[k]*prices_yx[k] for k in range(N)]\n",
    "\n",
    "fig, (y_ax, t2_ax) = plt.subplots(nrows=2, sharex=True, sharey=False, figsize=(12, 10))\n",
    "\n",
    "y_ax.plot(tSamp[1:], percent_yield, label='%') \n",
    "y_ax.set_title(\"Percent Yield\", fontsize=20)\n",
    "y_ax.set_ylabel(\"% Yield\", fontsize=16)\n",
    "y_ax.set_xlabel('Time', fontsize=16)\n",
    "y_ax.legend()\n",
    "\n",
    "t2_ax.plot(tSamp[1:], accumulated_t2, label='%') \n",
    "t2_ax.set_title(\"Accumulated T2\", fontsize=20)\n",
    "t2_ax.set_ylabel(\"T2\", fontsize=16)\n",
    "t2_ax.set_xlabel('Time', fontsize=16)\n",
    "t2_ax.legend()\n"
   ]
  },
  {
   "cell_type": "code",
   "execution_count": null,
   "id": "6dbfee87-2110-4746-917a-8190ad5acb19",
   "metadata": {},
   "outputs": [],
   "source": [
    "T2_balance = TOKEN[1].get_state_series(ADDR[1]).get_balance()\n",
    "T2_principle = TOKEN[1].get_state_series(ADDR[1]).get_principle()\n",
    "T2_yield = [T2_balance[k] - T2_principle[k] for k in range(N)]\n",
    "tSamp = TOKEN[1].get_state_series(ADDR[1]).get_tstamp()  \n",
    "\n",
    "percent_yield = [100*T2_yield[k]/T2_balance[k] for k in range(N)]\n",
    "accumulated_t1 = [T2_yield[k]*prices_xy[k] for k in range(N)]\n",
    "\n",
    "fig, (y_ax, t1_ax) = plt.subplots(nrows=2, sharex=True, sharey=False, figsize=(12, 10))\n",
    "\n",
    "y_ax.plot(tSamp[1:], percent_yield, label='%') \n",
    "y_ax.set_title(\"Percent Yield\", fontsize=20)\n",
    "y_ax.set_ylabel(\"% Yield\", fontsize=16)\n",
    "y_ax.set_xlabel('Time', fontsize=16)\n",
    "y_ax.legend()\n",
    "\n",
    "t1_ax.plot(tSamp[1:], accumulated_t2, label='%') \n",
    "t1_ax.set_title(\"Accumulated T1\", fontsize=20)\n",
    "t1_ax.set_ylabel(\"T1\", fontsize=16)\n",
    "t1_ax.set_xlabel('Time', fontsize=16)\n",
    "t1_ax.legend()"
   ]
  }
 ],
 "metadata": {
  "kernelspec": {
   "display_name": "Python 3 (ipykernel)",
   "language": "python",
   "name": "python3"
  },
  "language_info": {
   "codemirror_mode": {
    "name": "ipython",
    "version": 3
   },
   "file_extension": ".py",
   "mimetype": "text/x-python",
   "name": "python",
   "nbconvert_exporter": "python",
   "pygments_lexer": "ipython3",
   "version": "3.9.7"
  }
 },
 "nbformat": 4,
 "nbformat_minor": 5
}
