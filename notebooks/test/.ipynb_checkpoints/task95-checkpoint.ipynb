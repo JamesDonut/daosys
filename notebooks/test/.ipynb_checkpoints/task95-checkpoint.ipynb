{
 "cells": [
  {
   "cell_type": "markdown",
   "id": "a2c02040-626e-4d5d-9c17-887edeaf5ff4",
   "metadata": {},
   "source": [
    "### Task 95: Graph interest rate from providing CPT liquidity\n",
    "* Graph the interest earned in the base balance of both assets in a CPT liquidity pool. The graph should show the following information"
   ]
  },
  {
   "cell_type": "code",
   "execution_count": 1,
   "id": "d204f26d-16a3-41c6-a7d0-5b247a4335c0",
   "metadata": {},
   "outputs": [],
   "source": [
    "import os\n",
    "import copy\n",
    "import numpy as np\n",
    "import time\n",
    "import matplotlib.pyplot as plt\n",
    "cwd =  os.getcwd().replace(\"notebooks/test\",\"\")\n",
    "os.chdir(cwd)\n",
    "\n",
    "from python.dev.event.state.series import StateSeries\n",
    "from python.dev.event.state import State\n",
    "from python.dev.event import Deposit\n",
    "from python.dev.event import Withdraw\n",
    "from python.dev.cpt import Liquidity\n",
    "from python.dev.cpt import PriceCurve\n",
    "from python.dev.cpt import ConstantProductTrade\n",
    "from python.dev.plot import PlotPriceCurve\n",
    "from python.dev.token import RebaseToken\n",
    "from python.dev.math.model import TimeDeltaModel\n",
    "from python.dev.math.model import TokenDeltaModel\n",
    "from python.dev.math.model import EventSelectionModel"
   ]
  },
  {
   "cell_type": "code",
   "execution_count": 2,
   "id": "2462ea90-2e0f-4f12-8a95-5200c1c06736",
   "metadata": {},
   "outputs": [],
   "source": [
    "time0 = time.time()\n",
    "N_TOKENS = 2"
   ]
  },
  {
   "cell_type": "markdown",
   "id": "d7721420-0243-408d-a2ef-06a492359b31",
   "metadata": {},
   "source": [
    "### Part A: Simulation Run\n",
    "* Initialize Rebasing/NonRebasing Tokens"
   ]
  },
  {
   "cell_type": "code",
   "execution_count": 9,
   "id": "69e7c9e4-213c-4dae-aa53-84124e061d09",
   "metadata": {},
   "outputs": [],
   "source": [
    "APY = 0.1\n",
    "TYPE_DEPOSIT_TOKEN = 'DEPOSIT'\n",
    "TOKEN = N_TOKENS * [None]\n",
    "ADDR = N_TOKENS * [None]\n",
    "deposit = 10000 \n",
    "\n",
    "TOKEN[0] = RebaseToken(TYPE_DEPOSIT_TOKEN)\n",
    "ADDR[0] = TOKEN[0].gen_address()\n",
    "TOKEN[0].init_token(time0, ADDR[0])\n",
    "TOKEN[0].add_event(Deposit(APY, deposit, 0, ADDR[0]))\n",
    "   \n",
    "TOKEN[1] = RebaseToken(TYPE_DEPOSIT_TOKEN)\n",
    "ADDR[1] = TOKEN[1].gen_address()\n",
    "TOKEN[1].init_token(time0, ADDR[1])\n",
    "TOKEN[1].add_event(Deposit(APY, deposit, 0, ADDR[k]))\n",
    "    \n",
    "x = TOKEN[0].get_balance_deposits()\n",
    "y = TOKEN[1].get_balance_deposits()\n",
    "\n",
    "# Initialize Liquidity Pool\n",
    "liq = Liquidity(x,y)"
   ]
  },
  {
   "cell_type": "markdown",
   "id": "bacaede0-fa22-47c6-842c-0868dd16f7fe",
   "metadata": {},
   "source": [
    "* Simulate Deposits"
   ]
  },
  {
   "cell_type": "code",
   "execution_count": 4,
   "id": "a715d17c-1c7e-4d46-b38a-55e87bbbe8ad",
   "metadata": {},
   "outputs": [
    {
     "name": "stdout",
     "output_type": "stream",
     "text": [
      "[SIM 0] T1: 10230.50 T2: 10262.00\n",
      "[SIM 50] T1: 16859.27 T2: 17556.62\n",
      "[SIM 100] T1: 22270.87 T2: 23262.49\n",
      "[SIM 150] T1: 26680.15 T2: 29492.49\n",
      "[SIM 200] T1: 31692.49 T2: 34717.90\n"
     ]
    }
   ],
   "source": [
    "percent = 0.05\n",
    "N = 250\n",
    "prices = N * [0]\n",
    "\n",
    "for k in range(N):\n",
    "\n",
    "    token_delta = TokenDeltaModel(1,100).apply() \n",
    "    time_delta = TimeDeltaModel().apply() \n",
    "    TOKEN[0].add_event(Deposit(APY, token_delta, time_delta, ADDR[0]))\n",
    "\n",
    "    token_delta = TokenDeltaModel(1,100).apply() \n",
    "    time_delta = TimeDeltaModel().apply() \n",
    "    TOKEN[1].add_event(Deposit(APY, token_delta, time_delta, ADDR[1]))        \n",
    "        \n",
    "    T1_yield = TOKEN[0].get_state_series(ADDR[0]).get_last_state().get_yield()\n",
    "    T2_yield = TOKEN[1].get_state_series(ADDR[1]).get_last_state().get_yield()\n",
    "    \n",
    "    T1_delta = TOKEN[0].get_state_series(ADDR[0]).get_last_state().get_delta()\n",
    "    T2_delta = TOKEN[1].get_state_series(ADDR[1]).get_last_state().get_delta()\n",
    "        \n",
    "    x = TOKEN[0].get_balance_deposits()\n",
    "    y = TOKEN[1].get_balance_deposits()\n",
    "\n",
    "    liq.delta_x(T1_delta+T1_yield)\n",
    "    liq.delta_y(T2_delta+T2_yield)     \n",
    "    L = liq.calc(); #p = np.random.normal(5,0.1,1)[0]\n",
    "    prices[k] = liq.get_swap_price()    \n",
    "    \n",
    "    if (k % int(N/(100*percent)) == 0):\n",
    "        out_str = '[SIM {}]'.format(k)\n",
    "        for k in range(N_TOKENS):\n",
    "            amt = TOKEN[k].get_balance_deposits()\n",
    "            out_str = out_str+' T{}: {:.2f}'.format(k+1,amt)\n",
    "            \n",
    "        print(out_str) \n",
    "        "
   ]
  },
  {
   "cell_type": "markdown",
   "id": "a63e7a00-5c53-47a1-a4f6-a18ec47889a8",
   "metadata": {},
   "source": [
    "### Part B: Plot Simulated Output"
   ]
  },
  {
   "cell_type": "markdown",
   "id": "73e342a4-0ef2-48eb-b8a8-53c164cd5e8f",
   "metadata": {},
   "source": [
    "* Show the initial amounts of each asset deposited in liquidity"
   ]
  },
  {
   "cell_type": "code",
   "execution_count": 5,
   "id": "75aa3707-2954-44eb-a4bd-0ecdc5b4e06d",
   "metadata": {},
   "outputs": [
    {
     "data": {
      "image/png": "[encoded data removed]",
      "text/plain": [
       "<Figure size 864x576 with 1 Axes>"
      ]
     },
     "metadata": {
      "needs_background": "light"
     },
     "output_type": "display_data"
    }
   ],
   "source": [
    "token_names = ['T'+str(k) for k in range(N_TOKENS)]\n",
    "inital_balances = N_TOKENS*[0]\n",
    "\n",
    "for k in range(N_TOKENS):\n",
    "    inital_balances[k] = TOKEN[k].get_state_series(ADDR[k]).get_state(0).get_balance()\n",
    "\n",
    "bar_width = 0.5\n",
    "x = np.arange(len(TOKEN))\n",
    "\n",
    "fig, (ax1) = plt.subplots(nrows=1, sharex=True, sharey=False, figsize=(12, 8))\n",
    "ax1.set_title(\"Initial token balances\", fontsize=20)\n",
    "ax1.set_ylabel('Balances', fontsize=16)\n",
    "b1 = ax1.bar(x, inital_balances, width=bar_width, label='initial')\n",
    "ax1.set_xticks(x)\n",
    "ax1.set_xticklabels(token_names)\n",
    "plt.legend()\n",
    "plt.show()\n"
   ]
  },
  {
   "cell_type": "markdown",
   "id": "8bb0938a-38f3-4c84-b372-03a5d6ea60a9",
   "metadata": {},
   "source": [
    "* Show the balances in liquidity of each asset at the end of a simulation run"
   ]
  },
  {
   "cell_type": "code",
   "execution_count": 6,
   "id": "c075c60c-a4a0-4f56-a213-7ae0a19c9d37",
   "metadata": {},
   "outputs": [
    {
     "data": {
      "image/png": "[encoded data removed]",
      "text/plain": [
       "<Figure size 864x576 with 1 Axes>"
      ]
     },
     "metadata": {
      "needs_background": "light"
     },
     "output_type": "display_data"
    }
   ],
   "source": [
    "final_balances = [TOKEN[k].get_balance_deposits() for k in range(N_TOKENS)]\n",
    "bar_width = 0.2\n",
    "\n",
    "fig, (ax1) = plt.subplots(nrows=1, sharex=True, sharey=False, figsize=(12, 8))\n",
    "ax1.set_title(\"Final / initial token balances\", fontsize=20)\n",
    "ax1.set_ylabel('Balances', fontsize=16)\n",
    "b1 = ax1.bar(x, inital_balances, width=bar_width, label='initial')\n",
    "b2 = ax1.bar(x + bar_width, final_balances, width=bar_width, label='final')\n",
    "ax1.set_xticks(x + bar_width / 2)\n",
    "ax1.set_xticklabels(token_names)\n",
    "plt.legend()\n",
    "plt.show()\n"
   ]
  },
  {
   "cell_type": "markdown",
   "id": "19f0c738-fecb-4079-a526-e1fef9bb076a",
   "metadata": {},
   "source": [
    "* Show the base balance delta of each asset in liquidity at the end of a simulation run"
   ]
  },
  {
   "cell_type": "code",
   "execution_count": 7,
   "id": "4dedbe99-2457-443e-9eee-2c6f2dda428c",
   "metadata": {},
   "outputs": [
    {
     "data": {
      "image/png": "[encoded data removed]",
      "text/plain": [
       "<Figure size 864x576 with 1 Axes>"
      ]
     },
     "metadata": {
      "needs_background": "light"
     },
     "output_type": "display_data"
    }
   ],
   "source": [
    "bar_width = 0.5\n",
    "delta_balances = [final_balances[k]-inital_balances[k] for k in range(N_TOKENS)]\n",
    "\n",
    "fig, (ax1) = plt.subplots(nrows=1, sharex=True, sharey=False, figsize=(12, 8))\n",
    "ax1.set_title(\"Delta token balances\", fontsize=20)\n",
    "ax1.set_ylabel('Balances', fontsize=16)\n",
    "b1 = ax1.bar(x, delta_balances, width=bar_width, label='delta')\n",
    "ax1.set_xticks(x)\n",
    "ax1.set_xticklabels(token_names)\n",
    "plt.legend()\n",
    "plt.show()\n"
   ]
  },
  {
   "cell_type": "markdown",
   "id": "84d38702-6ecf-4717-a32d-d6aeb068f6c5",
   "metadata": {},
   "source": [
    "* Show the base balance delta as a percentage change at the end of a simulation run"
   ]
  },
  {
   "cell_type": "code",
   "execution_count": 8,
   "id": "9d452eaa-5e09-4b3d-8848-d5445481d972",
   "metadata": {},
   "outputs": [
    {
     "data": {
      "image/png": "[encoded data removed]",
      "text/plain": [
       "<Figure size 864x576 with 1 Axes>"
      ]
     },
     "metadata": {
      "needs_background": "light"
     },
     "output_type": "display_data"
    }
   ],
   "source": [
    "percentage_chg = [100*delta_balances[k]/inital_balances[k] for k in range(N_TOKENS)]\n",
    "    \n",
    "fig, (ax1) = plt.subplots(nrows=1, sharex=True, sharey=False, figsize=(12, 8))\n",
    "ax1.set_title(\"Percentage changes\", fontsize=20)\n",
    "ax1.set_ylabel('Percentage Chg (%)', fontsize=16)\n",
    "b1 = ax1.bar(x, percentage_chg, width=bar_width, label='% Chg')\n",
    "ax1.set_xticks(x)\n",
    "ax1.set_xticklabels(token_names)\n",
    "plt.legend()\n",
    "plt.show()    "
   ]
  }
 ],
 "metadata": {
  "kernelspec": {
   "display_name": "Python 3 (ipykernel)",
   "language": "python",
   "name": "python3"
  },
  "language_info": {
   "codemirror_mode": {
    "name": "ipython",
    "version": 3
   },
   "file_extension": ".py",
   "mimetype": "text/x-python",
   "name": "python",
   "nbconvert_exporter": "python",
   "pygments_lexer": "ipython3",
   "version": "3.9.7"
  }
 },
 "nbformat": 4,
 "nbformat_minor": 5
}
