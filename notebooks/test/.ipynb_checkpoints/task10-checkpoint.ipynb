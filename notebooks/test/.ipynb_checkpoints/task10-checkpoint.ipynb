{
 "cells": [
  {
   "cell_type": "markdown",
   "id": "f6342d46-2ed4-4c63-bce9-a14e5fd12071",
   "metadata": {},
   "source": [
    "### Task 10: Add Constant Product Trading interest rate as continuous rebase\n",
    "* https://cryptorating.eu/whitepapers/Aave/aave-v2-whitepaper.pdf"
   ]
  },
  {
   "cell_type": "code",
   "execution_count": 881,
   "id": "c8a0fdd6-dd68-4838-9049-550ed7f3b0ee",
   "metadata": {},
   "outputs": [],
   "source": [
    "import os\n",
    "import copy\n",
    "import numpy as np\n",
    "cwd =  os.getcwd().replace(\"notebooks/test\",\"\")\n",
    "os.chdir(cwd)"
   ]
  },
  {
   "cell_type": "code",
   "execution_count": 90,
   "id": "92e390da-5ce0-4344-82c7-da7e52609113",
   "metadata": {},
   "outputs": [
    {
     "name": "stdout",
     "output_type": "stream",
     "text": [
      "dt_object = 2022-04-12 17:24:11\n",
      "dt_object = 2022-04-12 17:24:21\n"
     ]
    }
   ],
   "source": [
    "from python.dev.token import Token\n",
    "\n",
    "import time\n",
    "from datetime import datetime\n",
    "\n",
    "timestamp1 = int(time.time()) \n",
    "dt_object1 = datetime.fromtimestamp(timestamp1)\n",
    "\n",
    "timestamp2 = timestamp1 + 10\n",
    "dt_object2 = datetime.fromtimestamp(timestamp2)\n",
    "\n",
    "print(\"dt_object =\", dt_object1)\n",
    "print(\"dt_object =\", dt_object2)"
   ]
  },
  {
   "cell_type": "code",
   "execution_count": 779,
   "id": "1c1327d8-ac7f-4349-8bf7-4b57989c2610",
   "metadata": {},
   "outputs": [],
   "source": [
    "from abc import *\n",
    "from datetime import datetime\n",
    "\n",
    "class Event(ABC):\n",
    "    \n",
    "    EVENT_DEPOSIT = 'DEPOSIT'\n",
    "    EVENT_WITHDRAW = 'WITHDRAW'\n",
    "    EVENT_TRADE = 'TRADE'\n",
    "    \n",
    "    @abstractmethod\n",
    "    def time_of(self):\n",
    "        pass\n",
    "    @abstractmethod\n",
    "    def type_of(self):\n",
    "        pass\n",
    "    @abstractmethod\n",
    "    def get_apy(self):\n",
    "        pass\n",
    "    @abstractmethod\n",
    "    def get_delta(self):\n",
    "        pass     \n",
    "     \n",
    "class Deposit(Event):\n",
    "    \n",
    "    def __init__(self, apy, delta, t_stamp):\n",
    "        self.__t_stamp = t_stamp\n",
    "        self.__delta = delta\n",
    "        self.__apy = apy\n",
    "        \n",
    "    def time_of(self):\n",
    "        return self.__t_stamp\n",
    "    \n",
    "    def to_datetime(self):\n",
    "        return datetime.fromtimestamp(self.__t_stamp)    \n",
    "    \n",
    "    def get_delta(self):\n",
    "        return self.__delta\n",
    "    \n",
    "    def get_apy(self):\n",
    "        return self.__apy\n",
    "    \n",
    "    def type_of(self):\n",
    "        return Event.EVENT_DEPOSIT\n",
    "    \n",
    "class Withdraw(Event):\n",
    "    \n",
    "    def __init__(self, apy, delta, t_stamp):\n",
    "        self.__t_stamp = t_stamp\n",
    "        self.__delta = delta\n",
    "        self.__apy = apy\n",
    "        \n",
    "    def time_of(self):\n",
    "        return self.__t_stamp\n",
    "    \n",
    "    def to_datetime(self):\n",
    "        return datetime.fromtimestamp(self.__t_stamp)    \n",
    "    \n",
    "    def get_delta(self):\n",
    "        return self.__delta\n",
    "    \n",
    "    def get_apy(self):\n",
    "        return self.__apy    \n",
    "    \n",
    "    def type_of(self):\n",
    "        return Event.EVENT_WITHDRAW    "
   ]
  },
  {
   "cell_type": "code",
   "execution_count": 951,
   "id": "04da664e-98d0-423b-a3cc-250c10445e01",
   "metadata": {},
   "outputs": [],
   "source": [
    "class Record():\n",
    "    def __init__(self, event):\n",
    "        self.__event = event\n",
    "        self.__balance = 0\n",
    "        self.__principle = 0\n",
    "        self.__yield = 0\n",
    "    \n",
    "    def get_balance(self):\n",
    "        return self.__balance\n",
    "    \n",
    "    def get_yield(self):\n",
    "        return self.__yield   \n",
    "    \n",
    "    def get_event(self):\n",
    "        return self.__event       \n",
    "    \n",
    "    def update_event(self, event):\n",
    "        self.update_balance()    \n",
    "        self.__event = event\n",
    "   \n",
    "    def update_principle(self):\n",
    "        self.__principle = self.__principle + self.__event.get_delta()\n",
    "\n",
    "    def update_balance(self):\n",
    "        self.update_yield()\n",
    "        self.__balance = self.__balance + self.__yield + self.__event.get_delta()  \n",
    "       \n",
    "    def update_yield(self):\n",
    "        t_delta = self.__event.time_of()\n",
    "        apy = self.__event.get_apy()\n",
    "        self.__yield = Yield(self.__balance, t_delta, apy).apply()\n",
    "        "
   ]
  },
  {
   "cell_type": "code",
   "execution_count": 610,
   "id": "d8b9e337-666f-409a-b0b6-7b507af5b81a",
   "metadata": {},
   "outputs": [
    {
     "data": {
      "text/plain": [
       "'DEPOSIT'"
      ]
     },
     "execution_count": 610,
     "metadata": {},
     "output_type": "execute_result"
    }
   ],
   "source": [
    "s = Deposit(1,1,1)\n",
    "s.delta()\n",
    "s.type_of()"
   ]
  },
  {
   "cell_type": "code",
   "execution_count": 36,
   "id": "e1c6b00a-8108-4d69-ae1b-e8e78e593b86",
   "metadata": {},
   "outputs": [],
   "source": [
    "def compound_return(rebase, freq=12, deposit=1):\n",
    "    return deposit*(1+rebase/100)**(freq)\n",
    "\n",
    "def unit_return(A0, apy, t, freq = 12):\n",
    "    multiplier = 1 + apy/100\n",
    "    return A0*(multiplier)**(t/freq)\n",
    "\n",
    "def time_units_between(a0,a1,rebase):\n",
    "    return np.log(a1/a0)/np.log(1+rebase/100)"
   ]
  },
  {
   "cell_type": "code",
   "execution_count": 10,
   "id": "49f2299e-a76c-4e5b-a82c-1e9a37c520cc",
   "metadata": {},
   "outputs": [],
   "source": [
    "class AToken(Token):\n",
    "    \n",
    "    def __init__(self, name):\n",
    "        super().__init__(name, None, None)\n",
    "        \n",
    "    def burn(user_address, receiver_address, delta, index):\n",
    "        return None\n",
    "    \n",
    "    def mint(user_address, delta, index):\n",
    "        return None  \n",
    "    \n",
    "    def mint_to_treasury(delta, index):\n",
    "        return None  \n",
    "    \n",
    "    def transfer_on_liquidation(from_address, to_address, delta):\n",
    "        return None   \n",
    "       \n",
    "    def handle_repayment(receiver_address, delta):    \n",
    "        return None        "
   ]
  },
  {
   "cell_type": "code",
   "execution_count": null,
   "id": "6f083407-49b2-4a6d-a566-d983b192bab5",
   "metadata": {},
   "outputs": [],
   "source": [
    "def unit_return(A0, apy, t, freq = 12):\n",
    "    multiplier = 1 + apy/100\n",
    "    return A0*(multiplier)**(t/freq)"
   ]
  },
  {
   "cell_type": "code",
   "execution_count": 774,
   "id": "3515410b-cde3-49d8-8608-db14b188a9af",
   "metadata": {},
   "outputs": [],
   "source": [
    "DAYS_IN_YEAR = 365.25\n",
    "HOURS_IN_DAY = 24\n",
    "SECONDS_IN_HOUR = 3600\n",
    "\n",
    "class Yield():\n",
    "    def __init__(self, balance, delta_t, apy):\n",
    "        self.__balance = balance\n",
    "        self.__delta_t = delta_t\n",
    "        self.__apy = apy\n",
    "             \n",
    "    def __seconds_per_year(self):\n",
    "        return DAYS_IN_YEAR*HOURS_IN_DAY*SECONDS_IN_HOUR\n",
    "\n",
    "    def apply(self):  \n",
    "        multiplier = 1 + self.__apy\n",
    "        freq = self.__seconds_per_year()\n",
    "        new_balance = self.__balance*(multiplier)**(self.__delta_t/freq)\n",
    "        return new_balance-self.__balance\n",
    "    "
   ]
  },
  {
   "cell_type": "code",
   "execution_count": 151,
   "id": "81a0b71d-76a1-4633-9122-a494ded6bc11",
   "metadata": {},
   "outputs": [
    {
     "data": {
      "text/plain": [
       "0.7389783279839144"
      ]
     },
     "execution_count": 151,
     "metadata": {},
     "output_type": "execute_result"
    }
   ],
   "source": [
    "from scipy.stats import norm\n",
    "norm.rvs()"
   ]
  },
  {
   "cell_type": "code",
   "execution_count": 26,
   "id": "9b1a8908-79ed-4eab-8771-cf23f1db0418",
   "metadata": {},
   "outputs": [
    {
     "data": {
      "text/plain": [
       "16.288946267774413"
      ]
     },
     "execution_count": 26,
     "metadata": {},
     "output_type": "execute_result"
    }
   ],
   "source": [
    "A0 = 10\n",
    "apy = 0.05\n",
    "\n",
    "for k in range(10):\n",
    "    A0 = A0 + A0*apy\n",
    "\n",
    "A0"
   ]
  },
  {
   "cell_type": "code",
   "execution_count": 638,
   "id": "04aef3c4-c653-43da-84eb-263ef5f726f3",
   "metadata": {},
   "outputs": [
    {
     "data": {
      "text/plain": [
       "10.5"
      ]
     },
     "execution_count": 638,
     "metadata": {},
     "output_type": "execute_result"
    }
   ],
   "source": [
    "y = Yield(A0,t0,0.05)\n",
    "t0 = DAYS_IN_YEAR*HOURS_IN_DAY*SECONDS_IN_HOUR\n",
    "y.apply()"
   ]
  },
  {
   "cell_type": "code",
   "execution_count": 639,
   "id": "e2816e3b-1589-40c5-9fdf-0d1ba149016e",
   "metadata": {},
   "outputs": [
    {
     "data": {
      "text/plain": [
       "10.5"
      ]
     },
     "execution_count": 639,
     "metadata": {},
     "output_type": "execute_result"
    }
   ],
   "source": [
    "y = Yield(10, t0, 0.05)\n",
    "y.apply()"
   ]
  },
  {
   "cell_type": "code",
   "execution_count": 952,
   "id": "3befc7a2-2185-4c15-a8ae-a459e6c4d977",
   "metadata": {},
   "outputs": [],
   "source": [
    "balance = [0]\n",
    "principle = [0]\n",
    "yields = [0]\n",
    "uSamp = [t0]\n",
    "APY = 0.1\n",
    "rec = Record(Deposit(0,0,0))\n",
    "record_events = []\n",
    "\n",
    "for k in range(5):\n",
    "    delta = np.random.gamma(1, 10)   \n",
    "    select = np.random.choice(2, 1, p=[0.70, 0.30])[0]\n",
    "\n",
    "    t_delta = np.random.negative_binomial(1, 0.00001)\n",
    "    #prev_balance = events[-1].current_balance()    \n",
    "    \n",
    "    if(select == 0): \n",
    "        event = Deposit(APY,delta,t_delta)\n",
    "    else:\n",
    "        event = Deposit(APY,delta,t_delta)  \n",
    "        #delta = -delta\n",
    "    rec.update_event(event)\n",
    "    \n",
    "    record_events.append(copy.copy(rec))\n",
    "    \n",
    "    yield_prev_delta = Yield(balance[-1], t_delta, APY).apply()\n",
    "    new_balance = yield_prev_delta + delta\n",
    "    \n",
    "    principle.append(principle[-1]+delta)\n",
    "    balance.append(balance[-1]+new_balance)\n",
    "    yields.append(yields[-1]+yield_delta)\n",
    "    uSamp.append(uSamp[-1]+t_delta)\n",
    "    \n",
    "tSamp = [datetime.fromtimestamp(t) for t in uSamp] \n",
    "#apy_balance = [x + y for (x, y) in zip(balance, yield_balance)] "
   ]
  },
  {
   "cell_type": "code",
   "execution_count": 961,
   "id": "7181f11e-b804-4cd9-ae06-f5f3329055ea",
   "metadata": {},
   "outputs": [
    {
     "data": {
      "text/plain": [
       "6.849947469211014"
      ]
     },
     "execution_count": 961,
     "metadata": {},
     "output_type": "execute_result"
    }
   ],
   "source": [
    "record_events[0].get_event().get_delta()"
   ]
  },
  {
   "cell_type": "code",
   "execution_count": 954,
   "id": "e840efb3-7104-43fe-b79b-581ced86eb2f",
   "metadata": {},
   "outputs": [
    {
     "data": {
      "text/plain": [
       "[0,\n",
       " 6.849947469211014,\n",
       " 15.54534211590867,\n",
       " 44.45545626363807,\n",
       " 45.720026554324555,\n",
       " 53.55409455005507]"
      ]
     },
     "execution_count": 954,
     "metadata": {},
     "output_type": "execute_result"
    }
   ],
   "source": [
    "balance"
   ]
  },
  {
   "cell_type": "code",
   "execution_count": 927,
   "id": "7aa12b79-6ddf-43f6-9f56-559a453157d6",
   "metadata": {},
   "outputs": [
    {
     "data": {
      "text/plain": [
       "8.220102268795722"
      ]
     },
     "execution_count": 927,
     "metadata": {},
     "output_type": "execute_result"
    }
   ],
   "source": [
    "record_events[1].get_balance()"
   ]
  },
  {
   "cell_type": "code",
   "execution_count": 798,
   "id": "a37a6282-a64a-4355-8962-60477c1defc9",
   "metadata": {},
   "outputs": [],
   "source": [
    "balance = [0]\n",
    "principle = [0]\n",
    "yields = [0]\n",
    "uSamp = [t0]\n",
    "APY = 0.1\n",
    "events = [Deposit(0,0,0)]\n",
    "\n",
    "for event in range(300):\n",
    "    delta = np.random.gamma(1, 10)   \n",
    "    select = np.random.choice(2, 1, p=[0.65, 0.35])[0]\n",
    "\n",
    "    t_delta = np.random.negative_binomial(1, 0.00001)\n",
    "    #prev_balance = events[-1].current_balance()    \n",
    "    \n",
    "    if(select == 0): \n",
    "        event = Deposit(APY,delta,t_delta)\n",
    "    else:\n",
    "        event = Withdraw(APY,delta,t_delta)  \n",
    "        delta = -delta\n",
    "\n",
    "    events.append(event)\n",
    "    \n",
    "    yield_prev_delta = Yield(balance[-1], t_delta, APY).apply()\n",
    "    new_balance = yield_prev_delta + delta\n",
    "    \n",
    "    principle.append(principle[-1]+delta)\n",
    "    balance.append(balance[-1]+new_balance)\n",
    "    yields.append(yields[-1]+yield_delta)\n",
    "    uSamp.append(uSamp[-1]+t_delta)\n",
    "    \n",
    "tSamp = [datetime.fromtimestamp(t) for t in uSamp] \n",
    "#apy_balance = [x + y for (x, y) in zip(balance, yield_balance)] "
   ]
  },
  {
   "cell_type": "code",
   "execution_count": 763,
   "id": "4a9c73b6-c63e-4117-a93e-83f45c066eb3",
   "metadata": {},
   "outputs": [
    {
     "data": {
      "text/plain": [
       "0.05078299066094497"
      ]
     },
     "execution_count": 763,
     "metadata": {},
     "output_type": "execute_result"
    }
   ],
   "source": [
    "(balance[-1]-principle[-1])/principle[-1]"
   ]
  },
  {
   "cell_type": "code",
   "execution_count": 799,
   "id": "1ca59818-e4fd-44ef-8acf-5ddcc061594f",
   "metadata": {},
   "outputs": [
    {
     "data": {
      "text/plain": [
       "<matplotlib.legend.Legend at 0x7fc1c810aa00>"
      ]
     },
     "execution_count": 799,
     "metadata": {},
     "output_type": "execute_result"
    },
    {
     "data": {
      "image/png": "[encoded data removed]",
      "text/plain": [
       "<Figure size 864x720 with 1 Axes>"
      ]
     },
     "metadata": {
      "needs_background": "light"
     },
     "output_type": "display_data"
    }
   ],
   "source": [
    "import matplotlib.pyplot as plt\n",
    "\n",
    "fig, (balance_ax) = plt.subplots(nrows=1, sharex=True, sharey=False, figsize=(12, 10))\n",
    "balance_ax.plot(tSamp, balance, label='balance') \n",
    "balance_ax.plot(tSamp, principle, label='principle') \n",
    "balance_ax.set_title(\"Supply (in native token)\", fontsize=20)\n",
    "balance_ax.set_ylabel(\"Native token\", fontsize=16)\n",
    "balance_ax.set_xlabel('Events', fontsize=16)\n",
    "balance_ax.legend()\n"
   ]
  },
  {
   "cell_type": "code",
   "execution_count": 91,
   "id": "cce01f4d-1718-45ce-8c66-be336e39735d",
   "metadata": {},
   "outputs": [
    {
     "data": {
      "text/plain": [
       "10.040741237836484"
      ]
     },
     "execution_count": 91,
     "metadata": {},
     "output_type": "execute_result"
    }
   ],
   "source": [
    "compound_return(5, freq=1/12, deposit=A0)"
   ]
  },
  {
   "cell_type": "code",
   "execution_count": 51,
   "id": "9c7881b5-0d22-404e-afe9-10aff071e7ea",
   "metadata": {},
   "outputs": [
    {
     "data": {
      "text/plain": [
       "10.040741237836484"
      ]
     },
     "execution_count": 51,
     "metadata": {},
     "output_type": "execute_result"
    }
   ],
   "source": [
    "unit_return(A0, 5, 1, freq = 12)"
   ]
  },
  {
   "cell_type": "code",
   "execution_count": 40,
   "id": "af065ccb-f38f-43dc-a54e-d6692cf8ab45",
   "metadata": {},
   "outputs": [
    {
     "data": {
      "text/plain": [
       "9.999999999999998"
      ]
     },
     "execution_count": 40,
     "metadata": {},
     "output_type": "execute_result"
    }
   ],
   "source": [
    "A0 = 10.0\n",
    "An = unit_return(A0, 5, 120, freq = 12)\n",
    "\n",
    "time_units_between(A0,An,5)"
   ]
  }
 ],
 "metadata": {
  "kernelspec": {
   "display_name": "Python 3 (ipykernel)",
   "language": "python",
   "name": "python3"
  },
  "language_info": {
   "codemirror_mode": {
    "name": "ipython",
    "version": 3
   },
   "file_extension": ".py",
   "mimetype": "text/x-python",
   "name": "python",
   "nbconvert_exporter": "python",
   "pygments_lexer": "ipython3",
   "version": "3.9.7"
  }
 },
 "nbformat": 4,
 "nbformat_minor": 5
}
