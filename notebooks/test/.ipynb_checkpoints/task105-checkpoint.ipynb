{
 "cells": [
  {
   "cell_type": "markdown",
   "id": "fd7f82c0-c7ee-4c8c-bbc4-941e71da6589",
   "metadata": {},
   "source": [
    "### Task 105: Simulate Non-rebasing token being deposited and traded against rebasing token\n",
    "* Simulate CPT trading with a non-rebasing toke paired with a rebasing token."
   ]
  },
  {
   "cell_type": "code",
   "execution_count": 1,
   "id": "aaba55f9-9067-4c2c-a5a4-5091af232842",
   "metadata": {},
   "outputs": [],
   "source": [
    "import os\n",
    "import copy\n",
    "import numpy as np\n",
    "import time\n",
    "import matplotlib.pyplot as plt\n",
    "cwd =  os.getcwd().replace(\"notebooks/test\",\"\")\n",
    "os.chdir(cwd)\n",
    "\n",
    "from python.dev.event.state.series import StateSeries\n",
    "from python.dev.event.state import State\n",
    "from python.dev.event import Deposit\n",
    "from python.dev.event import Withdraw\n",
    "from python.dev.token.trade import Convert\n",
    "from python.dev.cpt import Liquidity\n",
    "from python.dev.cpt import PriceCurve\n",
    "from python.dev.cpt import ConstantProductTrade\n",
    "from python.dev.plot import PlotPriceCurve\n",
    "from python.dev.token import RebaseToken\n",
    "from python.dev.token import NonRebaseToken\n",
    "from python.dev.math.model import TimeDeltaModel\n",
    "from python.dev.math.model import TokenDeltaModel\n",
    "from python.dev.math.model import EventSelectionModel"
   ]
  },
  {
   "cell_type": "code",
   "execution_count": 2,
   "id": "4426bdff-b731-4806-b825-50fabe62f1fa",
   "metadata": {},
   "outputs": [],
   "source": [
    "time0 = time.time()"
   ]
  },
  {
   "cell_type": "markdown",
   "id": "94de146b-32d9-4eea-9742-11ac95295d0f",
   "metadata": {},
   "source": [
    "### Part A: individually step through each of the instructions\n",
    "\n",
    "* Initialize Rebasing and Non-rebasing tokens along with liquidity pool"
   ]
  },
  {
   "cell_type": "code",
   "execution_count": 3,
   "id": "a7659d47-2ec6-4346-a205-67808416a0a3",
   "metadata": {},
   "outputs": [
    {
     "name": "stdout",
     "output_type": "stream",
     "text": [
      "[Initial] T1: 10000.00 TCT1: 10000.00 L: 10000.00000\n",
      "\n"
     ]
    }
   ],
   "source": [
    "# Initialize Rebasing/NonRebasing Tokens\n",
    "APY = 0.1\n",
    "\n",
    "TYPE_DEPOSIT_TOKEN = 'DEPOSIT'\n",
    "TYPE_COLLATERAL_TOKEN = 'COLLATERAL'\n",
    "\n",
    "time_delta = TimeDeltaModel().apply()\n",
    "depositT1 = 10000  \n",
    "\n",
    "T1 = NonRebaseToken(TYPE_DEPOSIT_TOKEN)\n",
    "t1Address = T1.gen_address()\n",
    "T1.init_token(time0, t1Address)\n",
    "T1.add_event(Deposit(APY, depositT1, time_delta, t1Address))\n",
    "\n",
    "time_delta = TimeDeltaModel().apply()\n",
    "depositTCT1 = 10000 \n",
    "\n",
    "TCT1 = RebaseToken(TYPE_COLLATERAL_TOKEN)\n",
    "tctAddress = TCT1.gen_address()\n",
    "TCT1.init_token(time0, tctAddress)\n",
    "TCT1.add_event(Deposit(APY, depositTCT1, time_delta, tctAddress))\n",
    "\n",
    "x = T1.get_balance_deposits()\n",
    "y = TCT1.get_balance_deposits()\n",
    "\n",
    "# Initialize Liquidity Pool\n",
    "liq = Liquidity(x,y)\n",
    "L = liq.calc(); p = np.random.normal(5,0.1,1)[0]\n",
    "cpt = ConstantProductTrade(L)\n",
    "pCurve = PriceCurve(L)\n",
    "\n",
    "print('[Initial] T1: {:.2f} TCT1: {:.2f} L: {:.5f}\\n'.format(x,y,L))"
   ]
  },
  {
   "cell_type": "markdown",
   "id": "c23f8a5f-44f7-4afe-86b8-acbfb793c411",
   "metadata": {},
   "source": [
    "* The deposit event that includes the amount of non-rebasing token will expand the supply of the rebasing token 1:1"
   ]
  },
  {
   "cell_type": "code",
   "execution_count": 4,
   "id": "6c63c98b-58be-42e3-9b77-cebbfb787402",
   "metadata": {},
   "outputs": [
    {
     "name": "stdout",
     "output_type": "stream",
     "text": [
      "[Deposits] T1: 10294.65782 TCT1: 10296.86985 L: 10295.76377\n"
     ]
    }
   ],
   "source": [
    "token_delta = TokenDeltaModel(1,100).apply() \n",
    "time_delta = TimeDeltaModel().apply() \n",
    "T1.add_event(Deposit(APY, token_delta, time_delta, t1Address))\n",
    "TCT1.add_event(Deposit(APY, token_delta, time_delta, tctAddress)) \n",
    "\n",
    "TCT1_yield = TCT1.get_state_series(tctAddress).get_last_state().get_yield()\n",
    "\n",
    "x = T1.get_balance_deposits()\n",
    "y = TCT1.get_balance_deposits()\n",
    "\n",
    "liq.delta_y(token_delta+TCT1_yield)\n",
    "liq.delta_x(token_delta) \n",
    "L = liq.calc()\n",
    "\n",
    "print('[Deposits] T1: {:.5f} TCT1: {:.5f} L: {:.5f}'.format(x,y,L))\n"
   ]
  },
  {
   "cell_type": "markdown",
   "id": "b9a27890-ff0d-4fd5-bb62-295eeb89e85c",
   "metadata": {},
   "source": [
    "* The subsequent trade must be for the same amount being deposited.\n",
    "* The amount of rebasing token purchase must be reflected as having left CPT liquidity."
   ]
  },
  {
   "cell_type": "code",
   "execution_count": 5,
   "id": "25c29f75-29df-4a09-8420-213862616e48",
   "metadata": {},
   "outputs": [
    {
     "name": "stdout",
     "output_type": "stream",
     "text": [
      "[Swap] T1: 10000.00000 TCT1: 10591.52767 L: 10295.76377\n"
     ]
    }
   ],
   "source": [
    "T1.add_event(Withdraw(APY, token_delta, 0, t1Address))\n",
    "TCT1.add_event(Deposit(APY, token_delta, 0, tctAddress)) \n",
    "\n",
    "TCT1_yield = TCT1.get_state_series(tctAddress).get_last_state().get_yield()\n",
    "liq.delta_y(TCT1_yield)\n",
    "L = liq.swap(token_delta)\n",
    "\n",
    "x = T1.get_balance_deposits()\n",
    "y = TCT1.get_balance_deposits()\n",
    "\n",
    "print('[Swap] T1: {:.5f} TCT1: {:.5f} L: {:.5f}'.format(x,y,L))\n"
   ]
  },
  {
   "cell_type": "markdown",
   "id": "96a875c8-8854-478d-9003-8ade689b7184",
   "metadata": {},
   "source": [
    "### Part B: running through each of the above instructions through a loop"
   ]
  },
  {
   "cell_type": "code",
   "execution_count": 6,
   "id": "36fa1438-815a-4c44-a9c3-d8065721e6c3",
   "metadata": {},
   "outputs": [
    {
     "name": "stdout",
     "output_type": "stream",
     "text": [
      "[Initial] T1: 10000.00 TCT1: 10000.00 L: 10000.00000\n",
      "\n"
     ]
    }
   ],
   "source": [
    "# Initialize Rebasing/NonRebasing Tokens\n",
    "APY = 0.1\n",
    "\n",
    "TYPE_DEPOSIT_TOKEN = 'DEPOSIT'\n",
    "TYPE_COLLATERAL_TOKEN = 'COLLATERAL'\n",
    "\n",
    "time_delta = TimeDeltaModel().apply()\n",
    "depositT1 = 10000  \n",
    "\n",
    "T1 = NonRebaseToken(TYPE_DEPOSIT_TOKEN)\n",
    "t1Address = T1.gen_address()\n",
    "T1.init_token(time0, t1Address)\n",
    "T1.add_event(Deposit(APY, depositT1, time_delta, t1Address))\n",
    "\n",
    "time_delta = TimeDeltaModel().apply()\n",
    "depositTCT1 = 10000 \n",
    "\n",
    "TCT1 = RebaseToken(TYPE_COLLATERAL_TOKEN)\n",
    "tctAddress = TCT1.gen_address()\n",
    "TCT1.init_token(time0, tctAddress)\n",
    "TCT1.add_event(Deposit(APY, depositTCT1, time_delta, tctAddress))\n",
    "\n",
    "x = T1.get_balance_deposits()\n",
    "y = TCT1.get_balance_deposits()\n",
    "\n",
    "# Initialize Liquidity Pool\n",
    "liq = Liquidity(x,y)\n",
    "L = liq.calc(); p = np.random.normal(5,0.1,1)[0]\n",
    "\n",
    "print('[Initial] T1: {:.2f} TCT1: {:.2f} L: {:.5f}\\n'.format(x,y,L))"
   ]
  },
  {
   "cell_type": "code",
   "execution_count": 7,
   "id": "f469c655-47b0-4b96-94e6-4652a8277944",
   "metadata": {},
   "outputs": [
    {
     "ename": "AttributeError",
     "evalue": "'Liquidity' object has no attribute 'get_trade_price'",
     "output_type": "error",
     "traceback": [
      "\u001b[0;31m---------------------------------------------------------------------------\u001b[0m",
      "\u001b[0;31mAttributeError\u001b[0m                            Traceback (most recent call last)",
      "\u001b[0;32m/var/folders/97/wcmz4r710pj20v_3cnvl09cm0000gn/T/ipykernel_7839/3630239049.py\u001b[0m in \u001b[0;36m<module>\u001b[0;34m\u001b[0m\n\u001b[1;32m     26\u001b[0m     \u001b[0mliq\u001b[0m\u001b[0;34m.\u001b[0m\u001b[0mdelta_y\u001b[0m\u001b[0;34m(\u001b[0m\u001b[0mtoken_delta\u001b[0m\u001b[0;34m+\u001b[0m\u001b[0mTCT1_yield\u001b[0m\u001b[0;34m)\u001b[0m\u001b[0;34m\u001b[0m\u001b[0;34m\u001b[0m\u001b[0m\n\u001b[1;32m     27\u001b[0m     \u001b[0mL\u001b[0m \u001b[0;34m=\u001b[0m \u001b[0mliq\u001b[0m\u001b[0;34m.\u001b[0m\u001b[0mcalc\u001b[0m\u001b[0;34m(\u001b[0m\u001b[0;34m)\u001b[0m\u001b[0;34m;\u001b[0m \u001b[0;31m#p = np.random.normal(5,0.1,1)[0]\u001b[0m\u001b[0;34m\u001b[0m\u001b[0;34m\u001b[0m\u001b[0m\n\u001b[0;32m---> 28\u001b[0;31m     \u001b[0mp\u001b[0m \u001b[0;34m=\u001b[0m \u001b[0mliq\u001b[0m\u001b[0;34m.\u001b[0m\u001b[0mget_trade_price\u001b[0m\u001b[0;34m(\u001b[0m\u001b[0;34m)\u001b[0m\u001b[0;34m\u001b[0m\u001b[0;34m\u001b[0m\u001b[0m\n\u001b[0m\u001b[1;32m     29\u001b[0m \u001b[0;34m\u001b[0m\u001b[0m\n\u001b[1;32m     30\u001b[0m     \u001b[0;32mif\u001b[0m \u001b[0;34m(\u001b[0m\u001b[0mk\u001b[0m \u001b[0;34m%\u001b[0m \u001b[0mint\u001b[0m\u001b[0;34m(\u001b[0m\u001b[0mN\u001b[0m\u001b[0;34m/\u001b[0m\u001b[0;34m(\u001b[0m\u001b[0;36m100\u001b[0m\u001b[0;34m*\u001b[0m\u001b[0mpercent\u001b[0m\u001b[0;34m)\u001b[0m\u001b[0;34m)\u001b[0m \u001b[0;34m==\u001b[0m \u001b[0;36m0\u001b[0m\u001b[0;34m)\u001b[0m\u001b[0;34m:\u001b[0m\u001b[0;34m\u001b[0m\u001b[0;34m\u001b[0m\u001b[0m\n",
      "\u001b[0;31mAttributeError\u001b[0m: 'Liquidity' object has no attribute 'get_trade_price'"
     ]
    },
    {
     "data": {
      "image/png": "[encoded data removed]",
      "text/plain": [
       "<Figure size 720x720 with 1 Axes>"
      ]
     },
     "metadata": {
      "needs_background": "light"
     },
     "output_type": "display_data"
    }
   ],
   "source": [
    "# Plot and execute N trades\n",
    "percent = 0.05\n",
    "N = 250\n",
    "\n",
    "cpt = ConstantProductTrade(L)\n",
    "pCurve = PriceCurve(L)\n",
    "plotCurve = PlotPriceCurve(L, cpt, pCurve)\n",
    "plotCurve.apply(p, None)\n",
    "\n",
    "for k in range(N):\n",
    "    \n",
    "    # The deposit event that includes the amount of non-rebasing token will \n",
    "    # expand the supply of the rebasing token 1:1\n",
    "    \n",
    "    token_delta = TokenDeltaModel(1,100).apply() \n",
    "    time_delta = TimeDeltaModel().apply() \n",
    "    T1.add_event(Deposit(APY, token_delta, time_delta, t1Address))\n",
    "    TCT1.add_event(Deposit(APY, token_delta, time_delta, tctAddress)) \n",
    "\n",
    "    TCT1_yield = TCT1.get_state_series(tctAddress).get_last_state().get_yield()\n",
    "\n",
    "    x = T1.get_balance_deposits()\n",
    "    y = TCT1.get_balance_deposits()\n",
    "\n",
    "    liq.delta_x(token_delta)\n",
    "    liq.delta_y(token_delta+TCT1_yield)     \n",
    "    L = liq.calc(); #p = np.random.normal(5,0.1,1)[0]\n",
    "    p = liq.get_swap_price()\n",
    "\n",
    "    if (k % int(N/(100*percent)) == 0): \n",
    "        print('[{}. Deposits] T1: {:.5f} TCT1: {:.5f} L: {:.5f}'.format(k,x,y,L))\n",
    "    \n",
    "    # The subsequent trade must be for the same amount being deposited\n",
    "    \n",
    "    T1.add_event(Withdraw(APY, token_delta, 0, t1Address))\n",
    "    TCT1.add_event(Deposit(APY, token_delta, 0, tctAddress)) \n",
    "\n",
    "    # The amount of rebasing token purchase must be reflected as having \n",
    "    # left CPT liquidity.\n",
    "\n",
    "    TCT1_yield = TCT1.get_state_series(tctAddress).get_last_state().get_yield()\n",
    "    liq.delta_y(TCT1_yield)\n",
    "    L = liq.swap(token_delta)\n",
    "\n",
    "    x = T1.get_balance_deposits()\n",
    "    y = TCT1.get_balance_deposits()\n",
    "\n",
    "    if (k % int(N/(100*percent)) == 0):\n",
    "        plotCurve.apply_next(p, L, '({}) L = {}, p = {:.3f}'.format(k, int(L),p))\n",
    "        plotCurve.plot_trade(p, token_delta, 'r--')        \n",
    "        print('[{}. Swap] T1: {:.5f} TCT1: {:.5f} L: {:.5f}\\n'.format(k,x,y,L))    \n",
    "\n"
   ]
  },
  {
   "cell_type": "code",
   "execution_count": null,
   "id": "b56f79ec-5c60-408f-b7fa-7aeb6732ac50",
   "metadata": {},
   "outputs": [],
   "source": [
    "# Analyze Token balances\n",
    "\n",
    "T1_states = T1.get_state_series(t1Address)\n",
    "principle = T1_states.get_principle() \n",
    "balance = T1_states.get_balance() \n",
    "tSamp = T1_states.get_tstamp()  \n",
    "\n",
    "fig, (T1_ax, TCT1_ax) = plt.subplots(nrows=2, sharex=True, sharey=False, figsize=(12, 10))\n",
    "\n",
    "T1_ax.plot(tSamp[1:], balance[1:], label='balance') \n",
    "T1_ax.plot(tSamp[1:], principle[1:], label='principle') \n",
    "T1_ax.set_title(\"T1 Balance (non-rebasing token)\", fontsize=20)\n",
    "T1_ax.set_ylabel(\"Token balance\", fontsize=16)\n",
    "T1_ax.set_xlabel('Time', fontsize=16)\n",
    "T1_ax.legend()\n",
    "\n",
    "TCT1_states = TCT1.get_state_series(tctAddress)\n",
    "principle = TCT1_states.get_principle() \n",
    "balance = TCT1_states.get_balance() \n",
    "tSamp = TCT1_states.get_tstamp() \n",
    "\n",
    "TCT1_ax.plot(tSamp[1:], balance[1:], label='balance') \n",
    "TCT1_ax.plot(tSamp[1:], principle[1:], label='principle') \n",
    "TCT1_ax.set_title(\"TCT1 Balance (rebasing token)\", fontsize=20)\n",
    "TCT1_ax.set_ylabel(\"Token balance\", fontsize=16)\n",
    "TCT1_ax.set_xlabel('Time', fontsize=16)\n",
    "TCT1_ax.legend()\n"
   ]
  }
 ],
 "metadata": {
  "kernelspec": {
   "display_name": "Python 3 (ipykernel)",
   "language": "python",
   "name": "python3"
  },
  "language_info": {
   "codemirror_mode": {
    "name": "ipython",
    "version": 3
   },
   "file_extension": ".py",
   "mimetype": "text/x-python",
   "name": "python",
   "nbconvert_exporter": "python",
   "pygments_lexer": "ipython3",
   "version": "3.9.7"
  }
 },
 "nbformat": 4,
 "nbformat_minor": 5
}
