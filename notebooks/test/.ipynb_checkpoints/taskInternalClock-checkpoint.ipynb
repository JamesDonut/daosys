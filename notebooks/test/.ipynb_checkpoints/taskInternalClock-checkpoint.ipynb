{
 "cells": [
  {
   "cell_type": "markdown",
   "id": "3c794acb-7903-4943-a029-174520726c40",
   "metadata": {},
   "source": [
    "### Task Internal Clock: Implement internal clock class\n",
    "* Implement internal clock class into "
   ]
  },
  {
   "cell_type": "code",
   "execution_count": 1,
   "id": "557f18a0-adb8-4909-a94f-ce595edb1927",
   "metadata": {},
   "outputs": [],
   "source": [
    "import os\n",
    "import copy\n",
    "import numpy as np\n",
    "import time\n",
    "import math\n",
    "import matplotlib.pyplot as plt\n",
    "cwd =  os.getcwd().replace(\"notebooks/test\",\"\")\n",
    "os.chdir(cwd)\n",
    "\n",
    "from python.dev.event import Deposit\n",
    "from python.dev.event import Withdraw\n",
    "from python.dev.cpt import Liquidity\n",
    "from python.dev.token import RebaseToken\n",
    "from python.dev.math.model import TimeDeltaModel\n",
    "from python.dev.math.model import TokenDeltaModel\n",
    "from python.dev.math.interest.ips import ConstantIPS\n",
    "from python.dev.math.interest.ips.aggregate import AggregateIPS\n",
    "from python.dev.math.interest import CompoundReturn"
   ]
  },
  {
   "cell_type": "code",
   "execution_count": 2,
   "id": "104839a3-0813-4007-951b-aaa95ce41184",
   "metadata": {},
   "outputs": [],
   "source": [
    "time0 = time.time()"
   ]
  },
  {
   "cell_type": "code",
   "execution_count": 9,
   "id": "0d2bbd5c-7883-459d-8b78-238f6ac9766f",
   "metadata": {},
   "outputs": [],
   "source": [
    "APY = 0.1\n",
    "TYPE_DEPOSIT_TOKEN = 'DEPOSIT'\n",
    "deposit = 10000 \n",
    "N_ADDR = 2\n",
    "ADDR = N_ADDR * [None]\n",
    "\n",
    "token = RebaseToken(TYPE_DEPOSIT_TOKEN)\n",
    "\n",
    "for k in range(N_ADDR):\n",
    "    ADDR[k] = token.mint(deposit, APY)  \n"
   ]
  },
  {
   "cell_type": "code",
   "execution_count": null,
   "id": "95e7fafc-8b11-45a4-bd33-dd987dd8d7e5",
   "metadata": {},
   "outputs": [],
   "source": [
    "percent = 0.05\n",
    "N = 250\n",
    "\n",
    "for k in range(N):\n",
    "\n",
    "    token_delta = TokenDeltaModel(1,100).apply() \n",
    "    time_delta = TimeDeltaModel().apply() \n",
    "    token.add_event(Deposit(APY, token_delta, time_delta, ADDR[0]))\n",
    "    \n",
    "    if (k % int(N/(100*percent)) == 0):\n",
    "        out_str = '[SIM {}]'.format(k)\n",
    "        \n",
    "        amt = token.get_balance_deposits()\n",
    "        out_str = out_str+' T{}: {:.2f}'.format(k+1,amt)\n",
    "            \n",
    "        print(out_str) \n",
    "        "
   ]
  },
  {
   "cell_type": "code",
   "execution_count": null,
   "id": "199fe76d-1919-414b-bbc0-1b88e26ea4d0",
   "metadata": {},
   "outputs": [],
   "source": [
    "token.get_clock().get_time()"
   ]
  },
  {
   "cell_type": "code",
   "execution_count": null,
   "id": "60b0eb2c-b81a-46e0-888d-b48a2ac84d7d",
   "metadata": {},
   "outputs": [],
   "source": [
    "T1_bal = token.get_state_series(ADDR[0]).get_last_state().get_balance()\n",
    "T2_bal = token.get_state_series(ADDR[1]).get_last_state().get_balance()\n",
    "\n",
    "T1_bal = token.balance_of(ADDR[0])\n",
    "T2_bal = token.balance_of(ADDR[1])\n",
    "\n",
    "print('{} {}'.format(T1_bal, T2_bal))"
   ]
  },
  {
   "cell_type": "code",
   "execution_count": null,
   "id": "7a18970b-66f8-480a-81ea-ae3ac019c538",
   "metadata": {},
   "outputs": [],
   "source": [
    "T_states = N_ADDR*[None]\n",
    "final_balances = N_ADDR*[0]\n",
    "\n",
    "fig, (T_ax) = plt.subplots(nrows=1, sharex=True, sharey=False, figsize=(12, 10))\n",
    "\n",
    "for m in range(1):\n",
    "    T_states = token.get_state_series(ADDR[m])\n",
    "    tSamp = T_states.get_tstamp() \n",
    "    balance = T_states.get_balance() \n",
    "    final_balances[m] = balance[-1]\n",
    "    T_ax.plot(tSamp, balance, label='T{} {}'.format(k,ADDR[m])) \n",
    "\n",
    "T_ax.set_title(\"Token Balances (rebasing token)\", fontsize=20)\n",
    "T_ax.set_ylabel(\"balance\", fontsize=16)\n",
    "T_ax.set_xlabel('time', fontsize=16)\n",
    "T_ax.legend(fontsize=8)"
   ]
  }
 ],
 "metadata": {
  "kernelspec": {
   "display_name": "Python 3 (ipykernel)",
   "language": "python",
   "name": "python3"
  },
  "language_info": {
   "codemirror_mode": {
    "name": "ipython",
    "version": 3
   },
   "file_extension": ".py",
   "mimetype": "text/x-python",
   "name": "python",
   "nbconvert_exporter": "python",
   "pygments_lexer": "ipython3",
   "version": "3.9.7"
  }
 },
 "nbformat": 4,
 "nbformat_minor": 5
}
