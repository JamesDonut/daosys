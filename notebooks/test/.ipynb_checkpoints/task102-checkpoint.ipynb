{
 "cells": [
  {
   "cell_type": "markdown",
   "id": "1a0005ae-82a2-4e59-825a-cda298313069",
   "metadata": {},
   "source": [
    "### Task 103: Integrate interest APS calculation from CPT liquidity pool in Rebasing token\n",
    "\n",
    "* Make the the APS source configurable. The CPT pool being used to calculate the interest APS should be configurable for any CPT in the simulation.\n",
    "\n",
    "* Being able to process only one source is sufficient. End goal is to be able to proportionally aggregate the interest APS from several sources. For example, the TCT may rebase using the supplies of T1 and T2 managed by the vault, including the interest rates for liquidity containing those assets. This may be a single pool that contains both tokens, and/or pools that contain only one of the assets.\n"
   ]
  },
  {
   "cell_type": "code",
   "execution_count": 1,
   "id": "daf6a761-4b2e-4589-8c76-65485b47fec8",
   "metadata": {},
   "outputs": [],
   "source": [
    "import os\n",
    "import copy\n",
    "import numpy as np\n",
    "import time\n",
    "import matplotlib.pyplot as plt\n",
    "cwd =  os.getcwd().replace(\"notebooks/test\",\"\")\n",
    "os.chdir(cwd)\n",
    "\n",
    "from python.dev.event import Deposit\n",
    "from python.dev.event import Withdraw\n",
    "from python.dev.cpt import Liquidity\n",
    "from python.dev.token import RebaseToken\n",
    "from python.dev.math.model import TimeDeltaModel\n",
    "from python.dev.math.model import TokenDeltaModel\n",
    "\n",
    "from python.dev.math.interest.ips import AverageIPS"
   ]
  },
  {
   "cell_type": "code",
   "execution_count": 2,
   "id": "0725c535-3c16-4df3-bc3d-f7c5b612038b",
   "metadata": {},
   "outputs": [],
   "source": [
    "DAYS_IN_YEAR = 365.25\n",
    "HOURS_IN_DAY = 24\n",
    "SECONDS_IN_HOUR = 3600\n",
    "\n",
    "s = DAYS_IN_YEAR*HOURS_IN_DAY*SECONDS_IN_HOUR"
   ]
  },
  {
   "cell_type": "code",
   "execution_count": 3,
   "id": "a3360196-e0dc-4dbb-8bb8-58a3b8ab0e65",
   "metadata": {},
   "outputs": [],
   "source": [
    "def calc_rebase(a0,a1,dt):\n",
    "    return (a1/a0)**(1/dt) - 1\n",
    "\n",
    "def unit_return(token, apy, t, freq = 12):\n",
    "    multiplier = 1 + apy\n",
    "    return (token)*(multiplier)**(t/freq)\n",
    "\n",
    "def compound_return(rebase, freq=12, deposit=1):\n",
    "    return (deposit)*(1+rebase)**(freq)"
   ]
  },
  {
   "cell_type": "code",
   "execution_count": 12,
   "id": "8fe84136-a468-4a99-93cf-f2a63b1ae889",
   "metadata": {},
   "outputs": [
    {
     "data": {
      "text/plain": [
       "3.0201974368537777e-09"
      ]
     },
     "execution_count": 12,
     "metadata": {},
     "output_type": "execute_result"
    }
   ],
   "source": [
    "A0 = 10000\n",
    "apy = .10\n",
    "t_delta = 1\n",
    "freq = s\n",
    "\n",
    "A1 = unit_return(A0, apy, t_delta, freq)\n",
    "\n",
    "(A1-A0)/A0"
   ]
  },
  {
   "cell_type": "code",
   "execution_count": 5,
   "id": "25b83c41-f8f9-44b6-b0d3-8f0f51d72378",
   "metadata": {},
   "outputs": [
    {
     "data": {
      "text/plain": [
       "3.020197425485094e-09"
      ]
     },
     "execution_count": 5,
     "metadata": {},
     "output_type": "execute_result"
    }
   ],
   "source": [
    "i = calc_rebase(A0,A1,t_delta)\n",
    "i"
   ]
  },
  {
   "cell_type": "code",
   "execution_count": 13,
   "id": "c5c6f0af-9f73-484e-91af-fd93ab3757cb",
   "metadata": {},
   "outputs": [
    {
     "data": {
      "text/plain": [
       "11000.000025588595"
      ]
     },
     "execution_count": 13,
     "metadata": {},
     "output_type": "execute_result"
    }
   ],
   "source": [
    "freq = s\n",
    "compound_return(i, freq, A0)"
   ]
  },
  {
   "cell_type": "code",
   "execution_count": 7,
   "id": "ee64fa88-4aed-4633-8459-00660351514e",
   "metadata": {},
   "outputs": [
    {
     "data": {
      "text/plain": [
       "3.0201974368537776e-05"
      ]
     },
     "execution_count": 7,
     "metadata": {},
     "output_type": "execute_result"
    }
   ],
   "source": [
    "A0 = 10000\n",
    "apy = .10\n",
    "t_delta = 1\n",
    "freq = s\n",
    "\n",
    "A1 = unit_return(A0, apy, t_delta, freq)\n",
    "\n",
    "rebase = (A1-A0)\n",
    "rebase"
   ]
  },
  {
   "cell_type": "code",
   "execution_count": 8,
   "id": "db45d053-6f46-4bed-93be-3deafcf8cc17",
   "metadata": {},
   "outputs": [
    {
     "data": {
      "text/plain": [
       "10000.000030201974"
      ]
     },
     "execution_count": 8,
     "metadata": {},
     "output_type": "execute_result"
    }
   ],
   "source": [
    "A1"
   ]
  },
  {
   "cell_type": "code",
   "execution_count": 9,
   "id": "11beedb8-148e-41c4-b990-4033952e2aff",
   "metadata": {},
   "outputs": [
    {
     "data": {
      "text/plain": [
       "11000.000025588595"
      ]
     },
     "execution_count": 9,
     "metadata": {},
     "output_type": "execute_result"
    }
   ],
   "source": [
    "freq = s/t_delta\n",
    "compound_return(i, freq, A0)"
   ]
  },
  {
   "cell_type": "code",
   "execution_count": 10,
   "id": "806ba028-1e4d-4195-bcb3-6dd972aa716f",
   "metadata": {},
   "outputs": [
    {
     "data": {
      "text/plain": [
       "11000.030202019081"
      ]
     },
     "execution_count": 10,
     "metadata": {},
     "output_type": "execute_result"
    }
   ],
   "source": [
    "time0 = time.time()\n",
    "\n",
    "APY = 0.1\n",
    "TYPE_DEPOSIT_TOKEN = 'DEPOSIT'\n",
    "deposit = A0\n",
    "t_delta = 1000\n",
    "\n",
    "token = RebaseToken(TYPE_DEPOSIT_TOKEN)\n",
    "addr = token.gen_address()\n",
    "token.init_token(time0, addr)\n",
    "token.add_event(Deposit(APY, A0, 0, addr))\n",
    "\n",
    "token.add_event(Deposit(APY, 1000, t_delta, addr))\n",
    "last_state = token.get_state_series(addr).get_last_state()\n",
    "\n",
    "last_state.get_balance() "
   ]
  },
  {
   "cell_type": "code",
   "execution_count": 15,
   "id": "4500b977-fdb5-4ad1-b44d-b792a3083a34",
   "metadata": {},
   "outputs": [
    {
     "data": {
      "text/plain": [
       "3.020197425485094e-09"
      ]
     },
     "execution_count": 15,
     "metadata": {},
     "output_type": "execute_result"
    }
   ],
   "source": [
    "ips = AverageIPS()\n",
    "interest_per_second = ips.calc_ips_from_state(last_state)\n",
    "freq = freq/t_delta\n",
    "interest_per_second"
   ]
  },
  {
   "cell_type": "code",
   "execution_count": 16,
   "id": "c93ce3fb-cbf4-4ba8-9dfe-f7d7d90a189d",
   "metadata": {},
   "outputs": [
    {
     "data": {
      "text/plain": [
       "11000.000025588595"
      ]
     },
     "execution_count": 16,
     "metadata": {},
     "output_type": "execute_result"
    }
   ],
   "source": [
    "compound_return(interest_per_second, freq, deposit)"
   ]
  }
 ],
 "metadata": {
  "kernelspec": {
   "display_name": "Python 3 (ipykernel)",
   "language": "python",
   "name": "python3"
  },
  "language_info": {
   "codemirror_mode": {
    "name": "ipython",
    "version": 3
   },
   "file_extension": ".py",
   "mimetype": "text/x-python",
   "name": "python",
   "nbconvert_exporter": "python",
   "pygments_lexer": "ipython3",
   "version": "3.9.7"
  }
 },
 "nbformat": 4,
 "nbformat_minor": 5
}
