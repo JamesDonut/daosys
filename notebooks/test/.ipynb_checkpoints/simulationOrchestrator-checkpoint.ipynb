{
 "cells": [
  {
   "cell_type": "markdown",
   "id": "77a0c42f-8f14-48ac-b6f8-d6325a5c30c6",
   "metadata": {},
   "source": [
    "### Task: Build Simulation Orchestrator\n",
    "* Create a rebase and non-rebasing token and simulate a series of N deposits\n",
    "* https://docs.python.org/3/c-api/reflection.html"
   ]
  },
  {
   "cell_type": "code",
   "execution_count": 1,
   "id": "38a21657-03af-4faa-8873-304282b65fe2",
   "metadata": {},
   "outputs": [],
   "source": [
    "import os\n",
    "import copy\n",
    "import numpy as np\n",
    "import time\n",
    "import matplotlib.pyplot as plt\n",
    "cwd =  os.getcwd().replace(\"notebooks/test\",\"\")\n",
    "os.chdir(cwd)\n",
    "\n",
    "from python.dev.simulation import SimulationOrchestrator\n",
    "from python.dev.simulation import EventQueue\n",
    "from python.dev.simulation import EventExecutor\n",
    "\n",
    "from python.dev.agent import Agent\n",
    "from python.dev.user import User\n",
    "\n",
    "from python.dev.action import Action\n",
    "\n",
    "from python.dev.event import Mint\n",
    "\n",
    "\n",
    "from python.dev.simulation.batch import WithdrawBatch\n",
    "from python.dev.simulation.batch import DepositBatch"
   ]
  },
  {
   "cell_type": "code",
   "execution_count": 2,
   "id": "ab7c9ee9-f24d-4fbb-9967-e2daa2d51db7",
   "metadata": {},
   "outputs": [],
   "source": [
    "apy = 0.123456\n",
    "target1 = Agent('T1_DEPOSIT', Agent.TYPE_TOKEN)\n",
    "target2 = Agent('TCT_DEPOSIT', Agent.TYPE_TOKEN)\n",
    "user = User('sim_user')"
   ]
  },
  {
   "cell_type": "code",
   "execution_count": 3,
   "id": "133e57c8-8538-455c-8e0d-ce4fefe7db48",
   "metadata": {},
   "outputs": [],
   "source": [
    "mint_event1 = Mint(10000, 0.1234567, target1, True)\n",
    "mint_event2 = Mint(10000, 0.1234567, target2, False)"
   ]
  },
  {
   "cell_type": "code",
   "execution_count": 4,
   "id": "f69e54fd-a75d-48f1-974f-b4a7f477f0f8",
   "metadata": {},
   "outputs": [],
   "source": [
    "n_events = 100\n",
    "\n",
    "dBatch1 = DepositBatch(target1, user)\n",
    "dBatch2 = DepositBatch(target2, user)\n",
    "\n",
    "deposit_events1 = dBatch1.simulate_events(apy, n_events)\n",
    "deposit_events2 = dBatch2.simulate_events(apy, n_events)"
   ]
  },
  {
   "cell_type": "code",
   "execution_count": 5,
   "id": "3bbeee96-1531-456f-b006-301281acbd4f",
   "metadata": {},
   "outputs": [
    {
     "ename": "NameError",
     "evalue": "name 'Action' is not defined",
     "output_type": "error",
     "traceback": [
      "\u001b[0;31m---------------------------------------------------------------------------\u001b[0m",
      "\u001b[0;31mNameError\u001b[0m                                 Traceback (most recent call last)",
      "\u001b[0;32m/var/folders/97/wcmz4r710pj20v_3cnvl09cm0000gn/T/ipykernel_3796/1109217649.py\u001b[0m in \u001b[0;36m<module>\u001b[0;34m\u001b[0m\n\u001b[1;32m      1\u001b[0m \u001b[0mq\u001b[0m \u001b[0;34m=\u001b[0m \u001b[0mEventQueue\u001b[0m\u001b[0;34m(\u001b[0m\u001b[0;34m)\u001b[0m\u001b[0;34m\u001b[0m\u001b[0;34m\u001b[0m\u001b[0m\n\u001b[0;32m----> 2\u001b[0;31m \u001b[0mq\u001b[0m\u001b[0;34m.\u001b[0m\u001b[0madd_event\u001b[0m\u001b[0;34m(\u001b[0m\u001b[0mAction\u001b[0m\u001b[0;34m(\u001b[0m\u001b[0mmint_event1\u001b[0m\u001b[0;34m,\u001b[0m \u001b[0mtarget1\u001b[0m\u001b[0;34m,\u001b[0m \u001b[0muser\u001b[0m\u001b[0;34m)\u001b[0m\u001b[0;34m)\u001b[0m\u001b[0;34m\u001b[0m\u001b[0;34m\u001b[0m\u001b[0m\n\u001b[0m\u001b[1;32m      3\u001b[0m \u001b[0mq\u001b[0m\u001b[0;34m.\u001b[0m\u001b[0madd_event\u001b[0m\u001b[0;34m(\u001b[0m\u001b[0mAction\u001b[0m\u001b[0;34m(\u001b[0m\u001b[0mmint_event2\u001b[0m\u001b[0;34m,\u001b[0m \u001b[0mtarget2\u001b[0m\u001b[0;34m,\u001b[0m \u001b[0muser\u001b[0m\u001b[0;34m)\u001b[0m\u001b[0;34m)\u001b[0m\u001b[0;34m\u001b[0m\u001b[0;34m\u001b[0m\u001b[0m\n\u001b[1;32m      4\u001b[0m \u001b[0mq\u001b[0m\u001b[0;34m.\u001b[0m\u001b[0madd_successive_events\u001b[0m\u001b[0;34m(\u001b[0m\u001b[0mdeposit_events1\u001b[0m\u001b[0;34m,\u001b[0m \u001b[0mdeposit_events2\u001b[0m\u001b[0;34m)\u001b[0m\u001b[0;34m\u001b[0m\u001b[0;34m\u001b[0m\u001b[0m\n",
      "\u001b[0;31mNameError\u001b[0m: name 'Action' is not defined"
     ]
    }
   ],
   "source": [
    "q = EventQueue()\n",
    "q.add_event(Action(mint_event1, target1, user))\n",
    "q.add_event(Action(mint_event2, target2, user))\n",
    "q.add_successive_events(deposit_events1, deposit_events2)"
   ]
  },
  {
   "cell_type": "code",
   "execution_count": 6,
   "id": "f18eb2e0-c230-46b3-a42c-07cd6a9ff783",
   "metadata": {},
   "outputs": [],
   "source": [
    "orchestrator = SimulationOrchestrator()\n",
    "executor = EventExecutor(q, orchestrator)\n",
    "executor.run()"
   ]
  }
 ],
 "metadata": {
  "kernelspec": {
   "display_name": "Python 3 (ipykernel)",
   "language": "python",
   "name": "python3"
  },
  "language_info": {
   "codemirror_mode": {
    "name": "ipython",
    "version": 3
   },
   "file_extension": ".py",
   "mimetype": "text/x-python",
   "name": "python",
   "nbconvert_exporter": "python",
   "pygments_lexer": "ipython3",
   "version": "3.9.7"
  }
 },
 "nbformat": 4,
 "nbformat_minor": 5
}
