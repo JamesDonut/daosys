{
 "cells": [
  {
   "cell_type": "markdown",
   "id": "77a0c42f-8f14-48ac-b6f8-d6325a5c30c6",
   "metadata": {},
   "source": [
    "### Task: Build Simulation Orchestrator\n",
    "* https://docs.python.org/3/c-api/reflection.html"
   ]
  },
  {
   "cell_type": "code",
   "execution_count": 1,
   "id": "38a21657-03af-4faa-8873-304282b65fe2",
   "metadata": {},
   "outputs": [],
   "source": [
    "import os\n",
    "import copy\n",
    "import numpy as np\n",
    "import time\n",
    "import matplotlib.pyplot as plt\n",
    "cwd =  os.getcwd().replace(\"notebooks/test\",\"\")\n",
    "os.chdir(cwd)\n",
    "\n",
    "\n",
    "from python.dev.math.model import TimeDeltaModel\n",
    "from python.dev.math.model import TokenDeltaModel\n",
    "from python.dev.simulation import SimulationOrchestrator\n",
    "from python.dev.simulation import EventQueue\n",
    "from python.dev.simulation import EventExecutor\n",
    "\n",
    "from python.dev.action import MintAction\n",
    "from python.dev.event import Mint"
   ]
  },
  {
   "cell_type": "code",
   "execution_count": 2,
   "id": "f8f1a8aa-9ad5-4784-92f4-37e210d40bf9",
   "metadata": {},
   "outputs": [
    {
     "data": {
      "text/plain": [
       "20"
      ]
     },
     "execution_count": 2,
     "metadata": {},
     "output_type": "execute_result"
    }
   ],
   "source": [
    "import queue\n",
    "q1 = queue.LifoQueue()\n",
    "\n",
    "for i in range(20):\n",
    "    q1.put(i) # this will additem from 0 to 20 to the queue\n",
    "\n",
    "q1.qsize()    "
   ]
  },
  {
   "cell_type": "code",
   "execution_count": 3,
   "id": "e9644644-dc8d-4b6f-ae02-9215c8b7d620",
   "metadata": {},
   "outputs": [],
   "source": [
    "q = EventQueue()\n",
    "orcestrator = SimulationOrchestrator()\n",
    "exe = EventExecutor(q, orcestrator)"
   ]
  },
  {
   "cell_type": "code",
   "execution_count": 4,
   "id": "ab7c9ee9-f24d-4fbb-9967-e2daa2d51db7",
   "metadata": {},
   "outputs": [],
   "source": [
    "APY = 0.1234567\n",
    "TYPE = 'DEPOSIT'\n",
    "A0 = 10000\n",
    "\n",
    "target = 'target'\n",
    "user = 'user'\n",
    "T1 = Mint(A0, APY,TYPE, True)\n"
   ]
  },
  {
   "cell_type": "code",
   "execution_count": 8,
   "id": "4852b5a1-1b4b-45f6-a71f-466f4c0f20b1",
   "metadata": {},
   "outputs": [],
   "source": []
  },
  {
   "cell_type": "code",
   "execution_count": 9,
   "id": "fc0b76bd-2374-4956-961d-cc59d66a2f6b",
   "metadata": {},
   "outputs": [],
   "source": [
    "action1 = MintAction(T1,target,user)"
   ]
  }
 ],
 "metadata": {
  "kernelspec": {
   "display_name": "Python 3 (ipykernel)",
   "language": "python",
   "name": "python3"
  },
  "language_info": {
   "codemirror_mode": {
    "name": "ipython",
    "version": 3
   },
   "file_extension": ".py",
   "mimetype": "text/x-python",
   "name": "python",
   "nbconvert_exporter": "python",
   "pygments_lexer": "ipython3",
   "version": "3.9.7"
  }
 },
 "nbformat": 4,
 "nbformat_minor": 5
}
