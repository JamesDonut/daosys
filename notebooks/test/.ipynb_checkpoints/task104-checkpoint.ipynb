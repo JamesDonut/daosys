{
 "cells": [
  {
   "cell_type": "markdown",
   "id": "681be53f-02cd-4136-b86f-c0ab1c44184c",
   "metadata": {},
   "source": [
    "### Task 104: Add graph of token balances for each holder"
   ]
  },
  {
   "cell_type": "code",
   "execution_count": 1,
   "id": "7c7211a6-b638-49c7-9f38-f0b4d82b11b9",
   "metadata": {},
   "outputs": [],
   "source": [
    "import os\n",
    "import copy\n",
    "import numpy as np\n",
    "import time\n",
    "import matplotlib.pyplot as plt\n",
    "cwd =  os.getcwd().replace(\"notebooks/test\",\"\")\n",
    "os.chdir(cwd)\n",
    "\n",
    "from python.dev.event import Deposit\n",
    "from python.dev.event import Withdraw\n",
    "from python.dev.cpt import Liquidity\n",
    "from python.dev.token import RebaseToken\n",
    "from python.dev.math.model import TimeDeltaModel\n",
    "from python.dev.math.model import TokenDeltaModel"
   ]
  },
  {
   "cell_type": "code",
   "execution_count": 2,
   "id": "be2ae9ed-8f1a-4260-a9c5-bd63c5cfc6f2",
   "metadata": {},
   "outputs": [],
   "source": [
    "time0 = time.time()\n",
    "N_TOKENS = 4\n",
    "N_ADDR = 5"
   ]
  },
  {
   "cell_type": "code",
   "execution_count": 3,
   "id": "a2ffbe17-3952-4e7e-b136-a0a79eee7413",
   "metadata": {},
   "outputs": [
    {
     "ename": "NameError",
     "evalue": "name 'RebaseToken' is not defined",
     "output_type": "error",
     "traceback": [
      "\u001b[0;31m---------------------------------------------------------------------------\u001b[0m",
      "\u001b[0;31mNameError\u001b[0m                                 Traceback (most recent call last)",
      "\u001b[0;32m/var/folders/97/wcmz4r710pj20v_3cnvl09cm0000gn/T/ipykernel_31515/3140812000.py\u001b[0m in \u001b[0;36m<module>\u001b[0;34m\u001b[0m\n\u001b[1;32m      6\u001b[0m \u001b[0;34m\u001b[0m\u001b[0m\n\u001b[1;32m      7\u001b[0m \u001b[0;32mfor\u001b[0m \u001b[0mk\u001b[0m \u001b[0;32min\u001b[0m \u001b[0mrange\u001b[0m\u001b[0;34m(\u001b[0m\u001b[0mN_TOKENS\u001b[0m\u001b[0;34m)\u001b[0m\u001b[0;34m:\u001b[0m\u001b[0;34m\u001b[0m\u001b[0;34m\u001b[0m\u001b[0m\n\u001b[0;32m----> 8\u001b[0;31m     \u001b[0mTOKEN\u001b[0m\u001b[0;34m[\u001b[0m\u001b[0mk\u001b[0m\u001b[0;34m]\u001b[0m \u001b[0;34m=\u001b[0m \u001b[0mRebaseToken\u001b[0m\u001b[0;34m(\u001b[0m\u001b[0mTYPE_DEPOSIT_TOKEN\u001b[0m\u001b[0;34m)\u001b[0m\u001b[0;34m\u001b[0m\u001b[0;34m\u001b[0m\u001b[0m\n\u001b[0m\u001b[1;32m      9\u001b[0m     \u001b[0;32mfor\u001b[0m \u001b[0mj\u001b[0m \u001b[0;32min\u001b[0m \u001b[0mrange\u001b[0m\u001b[0;34m(\u001b[0m\u001b[0mN_ADDR\u001b[0m\u001b[0;34m)\u001b[0m\u001b[0;34m:\u001b[0m\u001b[0;34m\u001b[0m\u001b[0;34m\u001b[0m\u001b[0m\n\u001b[1;32m     10\u001b[0m         \u001b[0mADDR\u001b[0m\u001b[0;34m[\u001b[0m\u001b[0mj\u001b[0m \u001b[0;34m+\u001b[0m \u001b[0mN_ADDR\u001b[0m\u001b[0;34m*\u001b[0m\u001b[0mk\u001b[0m\u001b[0;34m]\u001b[0m \u001b[0;34m=\u001b[0m \u001b[0mTOKEN\u001b[0m\u001b[0;34m[\u001b[0m\u001b[0mk\u001b[0m\u001b[0;34m]\u001b[0m\u001b[0;34m.\u001b[0m\u001b[0mgen_address\u001b[0m\u001b[0;34m(\u001b[0m\u001b[0;34m)\u001b[0m\u001b[0;34m\u001b[0m\u001b[0;34m\u001b[0m\u001b[0m\n",
      "\u001b[0;31mNameError\u001b[0m: name 'RebaseToken' is not defined"
     ]
    }
   ],
   "source": [
    "APY = 0.1\n",
    "TYPE_DEPOSIT_TOKEN = 'DEPOSIT'\n",
    "TOKEN = N_TOKENS * [None]\n",
    "ADDR = N_TOKENS*N_ADDR*[None]\n",
    "deposit = 10000 \n",
    "\n",
    "for k in range(N_TOKENS):\n",
    "    TOKEN[k] = RebaseToken(TYPE_DEPOSIT_TOKEN)\n",
    "    for j in range(N_ADDR):\n",
    "        ADDR[j + N_ADDR*k] = TOKEN[k].gen_address()\n",
    "        TOKEN[k].init_token(time0, ADDR[j + N_ADDR*k])\n",
    "        TOKEN[k].add_event(Deposit(APY, deposit, 0, ADDR[j + N_ADDR*k]))\n",
    "   "
   ]
  },
  {
   "cell_type": "code",
   "execution_count": null,
   "id": "1a7664e7-6270-4e52-b75f-d7266c004132",
   "metadata": {},
   "outputs": [],
   "source": [
    "percent = 0.05\n",
    "N = 100\n",
    "\n",
    "for n in range(N):\n",
    "        \n",
    "    for k in range(N_TOKENS):\n",
    "        for j in range(N_ADDR):    \n",
    "            token_delta = TokenDeltaModel(1,100).apply() \n",
    "            time_delta = TimeDeltaModel().apply() \n",
    "            TOKEN[k].add_event(Deposit(APY, token_delta, time_delta, ADDR[j + N_ADDR*k]))\n",
    "    \n",
    "    if (n % int(N/(100*percent)) == 0):\n",
    "        out_str = '[SIM {}]'.format(n)\n",
    "        for k in range(N_TOKENS):\n",
    "            amt = TOKEN[k].get_balance_deposits()\n",
    "            out_str = out_str+' T{}: {:.2f}'.format(k+1,amt)\n",
    "            \n",
    "        print(out_str) \n",
    "        "
   ]
  },
  {
   "cell_type": "code",
   "execution_count": null,
   "id": "3677db66-5683-4df2-8340-bba3f7f24a8d",
   "metadata": {},
   "outputs": [],
   "source": [
    "T_states = N_TOKENS*N_ADDR*[None]\n",
    "final_balances = N_TOKENS*N_ADDR*[0]\n",
    "\n",
    "fig, (T_ax) = plt.subplots(nrows=1, sharex=True, sharey=False, figsize=(12, 10))\n",
    "\n",
    "for k in range(N_TOKENS):\n",
    "    for j in range(N_ADDR):\n",
    "        m = j + N_ADDR*k\n",
    "        T_states[m] = TOKEN[k].get_state_series(ADDR[m])\n",
    "        tSamp = T_states[m].get_tstamp() \n",
    "        balance = T_states[m].get_balance() \n",
    "        final_balances[m] = balance[-1]\n",
    "        T_ax.plot(tSamp, balance, label='T{} {}'.format(k,ADDR[m])) \n",
    "\n",
    "T_ax.set_title(\"Token Balances (rebasing token)\", fontsize=20)\n",
    "T_ax.set_ylabel(\"balance\", fontsize=16)\n",
    "T_ax.set_xlabel('time', fontsize=16)\n",
    "T_ax.legend(fontsize=8)\n",
    "        "
   ]
  },
  {
   "cell_type": "code",
   "execution_count": null,
   "id": "8a50b144-40f3-4d93-a6b3-4b8ece7c5aa5",
   "metadata": {},
   "outputs": [],
   "source": [
    "bar_width = 0.15\n",
    "x = np.arange(N_TOKENS)\n",
    "token_names = ['T'+str(k) for k in range(N_TOKENS)]\n",
    "\n",
    "fig, (ax1) = plt.subplots(nrows=1, sharex=True, sharey=False, figsize=(12, 8))\n",
    "ax1.set_title(\"Final token balances\", fontsize=20)\n",
    "ax1.set_ylabel('Balances', fontsize=16)\n",
    "\n",
    "for k in range(N_ADDR):\n",
    "    ax1.bar(x + k*bar_width, final_balances[k:20+k:5], width=bar_width, label='address {}'.format(k))\n",
    "\n",
    "ax1.set_xticks(x + 0.3)\n",
    "ax1.set_xticklabels(token_names)\n",
    "plt.legend()\n",
    "plt.show()"
   ]
  }
 ],
 "metadata": {
  "kernelspec": {
   "display_name": "Python 3 (ipykernel)",
   "language": "python",
   "name": "python3"
  },
  "language_info": {
   "codemirror_mode": {
    "name": "ipython",
    "version": 3
   },
   "file_extension": ".py",
   "mimetype": "text/x-python",
   "name": "python",
   "nbconvert_exporter": "python",
   "pygments_lexer": "ipython3",
   "version": "3.9.7"
  }
 },
 "nbformat": 4,
 "nbformat_minor": 5
}
