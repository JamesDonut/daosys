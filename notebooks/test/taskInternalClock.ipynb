{
 "cells": [
  {
   "cell_type": "markdown",
   "id": "3c794acb-7903-4943-a029-174520726c40",
   "metadata": {},
   "source": [
    "### Task Internal Clock: Implement internal clock class\n",
    "* Implement internal clock class into "
   ]
  }
 ],
 "metadata": {
  "kernelspec": {
   "display_name": "Python 3 (ipykernel)",
   "language": "python",
   "name": "python3"
  },
  "language_info": {
   "codemirror_mode": {
    "name": "ipython",
    "version": 3
   },
   "file_extension": ".py",
   "mimetype": "text/x-python",
   "name": "python",
   "nbconvert_exporter": "python",
   "pygments_lexer": "ipython3",
   "version": "3.9.7"
  }
 },
 "nbformat": 4,
 "nbformat_minor": 5
}
