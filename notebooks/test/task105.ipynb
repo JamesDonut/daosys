{
 "cells": [
  {
   "cell_type": "markdown",
   "id": "fd7f82c0-c7ee-4c8c-bbc4-941e71da6589",
   "metadata": {},
   "source": [
    "### Task 105: Simulate Non-rebasing token being deposited and traded against rebasing token\n",
    "* Simulate CPT trading with a non-rebasing toke paired with a rebasing token."
   ]
  },
  {
   "cell_type": "code",
   "execution_count": 1,
   "id": "aaba55f9-9067-4c2c-a5a4-5091af232842",
   "metadata": {},
   "outputs": [],
   "source": [
    "import os\n",
    "import copy\n",
    "import numpy as np\n",
    "import time\n",
    "import matplotlib.pyplot as plt\n",
    "cwd =  os.getcwd().replace(\"notebooks/test\",\"\")\n",
    "os.chdir(cwd)\n",
    "\n",
    "from python.dev.event.state.series import StateSeries\n",
    "from python.dev.event.state import State\n",
    "from python.dev.event import Deposit\n",
    "from python.dev.event import Withdraw\n",
    "from python.dev.token.trade import Convert\n",
    "from python.dev.cpt import Liquidity\n",
    "from python.dev.cpt import PriceCurve\n",
    "from python.dev.cpt import ConstantProductTrade\n",
    "from python.dev.plot import PlotPriceCurve\n",
    "from python.dev.token import RebaseToken\n",
    "from python.dev.token import NonRebaseToken\n",
    "from python.dev.math.model import TimeDeltaModel\n",
    "from python.dev.math.model import TokenDeltaModel\n",
    "from python.dev.math.model import EventSelectionModel"
   ]
  },
  {
   "cell_type": "code",
   "execution_count": 2,
   "id": "4426bdff-b731-4806-b825-50fabe62f1fa",
   "metadata": {},
   "outputs": [],
   "source": [
    "time0 = time.time()"
   ]
  },
  {
   "cell_type": "markdown",
   "id": "94de146b-32d9-4eea-9742-11ac95295d0f",
   "metadata": {},
   "source": [
    "* Initialize Rebasing and Non-rebasing tokens along with liquidity pool"
   ]
  },
  {
   "cell_type": "code",
   "execution_count": 3,
   "id": "a7659d47-2ec6-4346-a205-67808416a0a3",
   "metadata": {},
   "outputs": [
    {
     "name": "stdout",
     "output_type": "stream",
     "text": [
      "[Initial] T1: 10000.00 TCT1: 10000.00\n",
      "\n"
     ]
    }
   ],
   "source": [
    "# Initialize Rebasing/NonRebasing Tokens\n",
    "APY = 0.1\n",
    "\n",
    "TYPE_DEPOSIT_TOKEN = 'DEPOSIT'\n",
    "TYPE_COLLATERAL_TOKEN = 'COLLATERAL'\n",
    "\n",
    "time_delta = TimeDeltaModel().apply()\n",
    "depositT1 = 10000  \n",
    "\n",
    "T1 = NonRebaseToken(TYPE_DEPOSIT_TOKEN)\n",
    "t1Address = T1.gen_address()\n",
    "T1.init_token(time0, t1Address)\n",
    "T1.add_event(Deposit(APY, depositT1, time_delta, t1Address))\n",
    "\n",
    "time_delta = TimeDeltaModel().apply()\n",
    "depositTCT1 = 10000 \n",
    "\n",
    "TCT1 = RebaseToken(TYPE_COLLATERAL_TOKEN)\n",
    "tctAddress = TCT1.gen_address()\n",
    "TCT1.init_token(time0, tctAddress)\n",
    "TCT1.add_event(Deposit(APY, depositTCT1, time_delta, tctAddress))\n",
    "\n",
    "x = T1.get_balance_deposits()\n",
    "y = TCT1.get_balance_deposits()\n",
    "\n",
    "print('[Initial] T1: {:.2f} TCT1: {:.2f}\\n'.format(x,y))\n",
    "\n",
    "# Initialize Liquidity Pool\n",
    "liq = Liquidity(x,y)\n",
    "L = liq.calc(); p = np.random.normal(5,0.1,1)[0]\n",
    "cpt = ConstantProductTrade(L)\n",
    "pCurve = PriceCurve(L)"
   ]
  },
  {
   "cell_type": "markdown",
   "id": "c23f8a5f-44f7-4afe-86b8-acbfb793c411",
   "metadata": {},
   "source": [
    "* The deposit event that includes the amount of non-rebasing token will expand the supply of the rebasing token 1:1"
   ]
  },
  {
   "cell_type": "code",
   "execution_count": 7,
   "id": "6c63c98b-58be-42e3-9b77-cebbfb787402",
   "metadata": {},
   "outputs": [
    {
     "name": "stdout",
     "output_type": "stream",
     "text": [
      "[Deposits] T1: 9996.74871 TCT1: 10648.89247 L: 10317.66941\n"
     ]
    }
   ],
   "source": [
    "token_delta = TokenDeltaModel(1,100).apply() \n",
    "time_delta = TimeDeltaModel().apply() \n",
    "T1.add_event(Deposit(APY, token_delta, time_delta, t1Address))\n",
    "TCT1.add_event(Deposit(APY, token_delta, time_delta, tctAddress)) \n",
    "\n",
    "TCT1_yield = TCT1.get_state_series(tctAddress).get_last_state().get_yield()\n",
    "\n",
    "x = T1.get_balance_deposits()\n",
    "y = TCT1.get_balance_deposits()\n",
    "\n",
    "liq.delta_y(token_delta+TCT1_yield)\n",
    "liq.delta_x(token_delta) \n",
    "L = liq.calc()\n",
    "\n",
    "print('[Deposits] T1: {:.5f} TCT1: {:.5f} L: {:.5f}'.format(x,y,L))\n"
   ]
  },
  {
   "cell_type": "markdown",
   "id": "b9a27890-ff0d-4fd5-bb62-295eeb89e85c",
   "metadata": {},
   "source": [
    "* The subsequent trade must be for the same amount being deposited.\n",
    "* The amount of rebasing token purchase must be reflected as having left CPT liquidity."
   ]
  },
  {
   "cell_type": "code",
   "execution_count": 9,
   "id": "25c29f75-29df-4a09-8420-213862616e48",
   "metadata": {},
   "outputs": [
    {
     "name": "stdout",
     "output_type": "stream",
     "text": [
      "[Swap] T1: 9681.61894 TCT1: 10964.02224 L: 10302.88724\n"
     ]
    }
   ],
   "source": [
    "T1.add_event(Withdraw(APY, token_delta, 0, t1Address))\n",
    "TCT1.add_event(Deposit(APY, token_delta, 0, tctAddress)) \n",
    "\n",
    "x = T1.get_balance_deposits()\n",
    "y = TCT1.get_balance_deposits()\n",
    "\n",
    "liq.delta_y(token_delta)\n",
    "liq.delta_x(-token_delta) \n",
    "\n",
    "L = liq.calc()\n",
    "\n",
    "print('[Swap] T1: {:.5f} TCT1: {:.5f} L: {:.5f}'.format(x,y,L))\n"
   ]
  },
  {
   "cell_type": "markdown",
   "id": "57cddc99-0644-4c2b-85a8-6e67ba17aa4a",
   "metadata": {},
   "source": [
    "* The amount of rebasing token purchase must be reflected as having left CPT liquidity."
   ]
  },
  {
   "cell_type": "code",
   "execution_count": null,
   "id": "f469c655-47b0-4b96-94e6-4652a8277944",
   "metadata": {},
   "outputs": [],
   "source": [
    "# Plot and execute N trades\n",
    "percent = 0.05\n",
    "N = 250\n",
    "\n",
    "plotCurve = PlotPriceCurve(L, cpt, pCurve)\n",
    "plotCurve.apply(p, None)\n",
    "\n",
    "for k in range(N):\n",
    "    # Generate random delta denomenated in Native token, \n",
    "    # rebalance respective accounts and convert to T1\n",
    "    delta_x = TokenDeltaModel(1,100).apply() \n",
    "    t_delta = TimeDeltaModel().apply()\n",
    "\n",
    "    select = EventSelectionModel().bi_select(0.5)\n",
    "    if(select == EventSelectionModel().FIRST): \n",
    "        T1.add_event(Withdraw(APY, delta_x, t_delta, t1Address))\n",
    "        TDT.add_event(Deposit(APY, delta_x, t_delta, tdtAddress))               \n",
    "    else:            \n",
    "        T1.add_event(Deposit(APY, delta_x, t_delta, t1Address))\n",
    "        TDT.add_event(Withdraw(APY, delta_x, t_delta, tdtAddress))         \n",
    "    \n",
    "    TDT_yield = TDT.get_state_series(tdtAddress).get_state(k).get_yield()\n",
    "    T1_yield = T1.get_state_series(t1Address).get_state(k).get_yield()\n",
    "    \n",
    "    liq.delta_y(TDT_yield)\n",
    "    \n",
    "    L = liq.swap(delta_x); p = np.random.normal(5,0.1,1)[0]\n",
    "    if (k % int(N/(100*percent)) == 0):\n",
    "        plotCurve.apply_next(p, L, '({}) L = {}, p = {:.3f}'.format(k, int(L),p))\n",
    "        plotCurve.plot_trade(p, delta_x, 'r--')\n",
    "        T1_prin = T1.get_state_series(t1Address).get_state(k).get_principle()\n",
    "        T1_balance = T1.get_state_series(t1Address).get_state(k).get_balance()\n",
    "\n",
    "        TDT_prin = TDT.get_state_series(tdtAddress).get_state(k).get_principle()\n",
    "        TDT_balance = TDT.get_state_series(tdtAddress).get_state(k).get_balance()\n",
    "            \n",
    "        print('[Trade {}] T1: {:.5f} TDT: {:.5f} L: {:.5f}'.format(k, x,y,L))\n",
    "        print('[Trade {}] T1_prin: {:.5f} T1_balance: {:.5f}'.format(k, T1_prin,T1_balance))\n",
    "        print('[Trade {}] TDT_prin: {:.5f} TDT_balance: {:.5f}\\n'.format(k, TDT_prin,TDT_balance))\n",
    "      \n",
    "    x = T1.get_balance_deposits()\n",
    "    y = TDT.get_balance_deposits()\n",
    "\n"
   ]
  },
  {
   "cell_type": "code",
   "execution_count": null,
   "id": "b56f79ec-5c60-408f-b7fa-7aeb6732ac50",
   "metadata": {},
   "outputs": [],
   "source": [
    "# Analyze Token balances\n",
    "\n",
    "T1_states = T1.get_state_series(t1Address)\n",
    "principle = T1_states.get_principle() \n",
    "balance = T1_states.get_balance() \n",
    "tSamp = T1_states.get_tstamp()  \n",
    "\n",
    "fig, (T1_ax, TDT_ax) = plt.subplots(nrows=2, sharex=True, sharey=False, figsize=(12, 10))\n",
    "\n",
    "T1_ax.plot(tSamp[1:], balance[1:], label='balance') \n",
    "T1_ax.plot(tSamp[1:], principle[1:], label='principle') \n",
    "T1_ax.set_title(\"T1 Balance (in native token)\", fontsize=20)\n",
    "T1_ax.set_ylabel(\"Native token\", fontsize=16)\n",
    "T1_ax.set_xlabel('Time', fontsize=16)\n",
    "T1_ax.legend()\n",
    "\n",
    "TDT_states = TDT.get_state_series(tdtAddress)\n",
    "principle = TDT_states.get_principle() \n",
    "balance = TDT_states.get_balance() \n",
    "tSamp = TDT_states.get_tstamp() \n",
    "\n",
    "TDT_ax.plot(tSamp[1:], balance[1:], label='balance') \n",
    "TDT_ax.plot(tSamp[1:], principle[1:], label='principle') \n",
    "TDT_ax.set_title(\"TDT Balance (in native token)\", fontsize=20)\n",
    "TDT_ax.set_ylabel(\"native token\", fontsize=16)\n",
    "TDT_ax.set_xlabel('Time', fontsize=16)\n",
    "TDT_ax.legend()\n"
   ]
  }
 ],
 "metadata": {
  "kernelspec": {
   "display_name": "Python 3 (ipykernel)",
   "language": "python",
   "name": "python3"
  },
  "language_info": {
   "codemirror_mode": {
    "name": "ipython",
    "version": 3
   },
   "file_extension": ".py",
   "mimetype": "text/x-python",
   "name": "python",
   "nbconvert_exporter": "python",
   "pygments_lexer": "ipython3",
   "version": "3.9.7"
  }
 },
 "nbformat": 4,
 "nbformat_minor": 5
}
