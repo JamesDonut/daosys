{
 "cells": [
  {
   "cell_type": "markdown",
   "id": "e15e0777-3792-4cc6-9e1e-c5666c3a437b",
   "metadata": {},
   "source": [
    "### Task 9: Simulate Constant Product Trading\n",
    "* https://atiselsts.github.io/pdfs/uniswap-v3-liquidity-math.pdf\n",
    "* https://www.desmos.com/calculator/7wbvkts2jf"
   ]
  },
  {
   "cell_type": "code",
   "execution_count": null,
   "id": "2fe2a94f-7f67-4150-8186-b075c1e40ae4",
   "metadata": {},
   "outputs": [],
   "source": [
    "import os\n",
    "import numpy as np\n",
    "cwd =  os.getcwd().replace(\"notebooks/test\",\"\")\n",
    "os.chdir(cwd)"
   ]
  },
  {
   "cell_type": "code",
   "execution_count": null,
   "id": "f1af0187-3fd8-4b18-a3ff-ddf6c16091c9",
   "metadata": {},
   "outputs": [],
   "source": [
    "from python.dev.token.trade import Convert\n",
    "from python.dev.cpt import Liquidity\n",
    "from python.dev.cpt import PriceCurve\n",
    "from python.dev.cpt import ConstantProductTrade\n",
    "from python.dev.plot import PlotPriceCurve\n",
    "from python.dev.token import Token"
   ]
  },
  {
   "cell_type": "markdown",
   "id": "16a80ab9-5788-46e6-9736-763bc4a300f0",
   "metadata": {},
   "source": [
    "* Price curve - parabolic curve whose slope changes based on liquidity to reflect price impact\n",
    "* Price per trade - dots on graph with price curve"
   ]
  },
  {
   "cell_type": "code",
   "execution_count": null,
   "id": "c3b620ba-0895-4213-8145-86a590e1f12d",
   "metadata": {},
   "outputs": [],
   "source": [
    "# Plot first curve; liquidity = 15 and price = 2\n",
    "L = 15; p = 2\n",
    "\n",
    "cpt = ConstantProductTrade(L)\n",
    "pCurve = PriceCurve(L)\n",
    "plotCurve = PlotPriceCurve(L, cpt, pCurve)\n",
    "plotCurve.apply(p,'L = 15, p = 2')\n",
    "\n",
    "for k in range(5):\n",
    "    delta = cpt.random_delta(10)\n",
    "    plotCurve.plot_trade(p, delta)\n",
    "\n",
    "# Plot second curve; liquidity = 18 and price = 3\n",
    "L = 18; p = 3\n",
    "plotCurve.apply_next(p, L,'L = 18, p = 3')  \n",
    "\n",
    "for k in range(5):\n",
    "    delta = cpt.random_delta(10)\n",
    "    plotCurve.plot_trade(p, delta, 'r--')\n",
    "    \n",
    "    \n",
    "# Plot third curve; liquidity = 16 and price = 5\n",
    "L = 13; p = 5\n",
    "plotCurve.apply_next(p, L,'L = 13, p = 5')  \n",
    "\n",
    "for k in range(5):\n",
    "    delta = cpt.random_delta(10)\n",
    "    plotCurve.plot_trade(p, delta, 'g--')    \n",
    "    "
   ]
  },
  {
   "cell_type": "markdown",
   "id": "f79ad578-b398-4f76-8902-853acf0d39e2",
   "metadata": {},
   "source": [
    "* Initialize test tokens in respect to Native Token\n",
    "* Initialize Liquidity pool in respect to each trading Token \n",
    "* Liquidity changes during trading - possibly bar graphs next to the price curve graph"
   ]
  },
  {
   "cell_type": "code",
   "execution_count": null,
   "id": "4088bdc5-f765-4be8-955c-ed15d46c8466",
   "metadata": {},
   "outputs": [],
   "source": [
    "# Initialize Test Tokens\n",
    "\n",
    "TYPE_DEPOSIT_TOKEN = 'DEPOSIT'\n",
    "TYPE_DEBT_TOKEN = 'DEBT'\n",
    "\n",
    "T1 = Token(TYPE_DEPOSIT_TOKEN)\n",
    "depositT1 = np.random.gamma(2, 2000, 1)[0]\n",
    "t1Address = T1.gen_address()\n",
    "T1.deposit(depositT1, t1Address)\n",
    "\n",
    "TDT = Token(TYPE_DEBT_TOKEN)\n",
    "depositTDT = np.random.gamma(2, 2000, 1)[0]\n",
    "tdtAddress = TDT.gen_address()\n",
    "TDT.deposit(depositTDT, tdtAddress)\n",
    "\n",
    "x = T1.get_balance_deposits()\n",
    "y = TDT.get_balance_deposits()\n",
    "\n",
    "print('[Initial] T1: {:.2f} TDT: {:.2f}'.format(x,y))\n",
    "\n",
    "native_T1_rate = 2 # native -> T1\n",
    "native_TDT_rate = 5  # native -> TDT\n",
    "\n",
    "x = Convert(native_T1_rate).apply(x)\n",
    "y = Convert(native_TDT_rate).apply(y)\n",
    "\n",
    "# Initialize Liquidity Pool\n",
    "liq = Liquidity(x,y)\n",
    "L = liq.calc(); p = np.random.normal(5,0.1,1)[0]\n",
    "cpt = ConstantProductTrade(L)\n",
    "pCurve = PriceCurve(L)\n",
    "plotCurve = PlotPriceCurve(L, cpt, pCurve)\n",
    "plotCurve.apply(p, 'L = {}, p = {}'.format(int(L),p))\n",
    "\n",
    "# Trade #1\n",
    "# Generate random delta denomenated in Native token, \n",
    "# rebalance respective accounts and convert to T1\n",
    "delta_x = cpt.random_delta(500)\n",
    "\n",
    "T1.deposit(-delta_x, t1Address)\n",
    "TDT.deposit(delta_x, tdtAddress)\n",
    "\n",
    "delta_x = Convert(1/native_T1_rate).apply(delta_x)\n",
    "\n",
    "L = liq.update(delta_x); p = np.random.normal(5,0.1,1)[0]\n",
    "plotCurve.apply_next(p, L, 'L = {}, p = {}'.format(int(L),p))\n",
    "plotCurve.plot_trade(p, delta_x, 'r--')\n",
    "\n",
    "x = T1.get_balance_deposits()\n",
    "y = TDT.get_balance_deposits()\n",
    "\n",
    "print('[Trade 1] T1: {:.2f} TDT: {:.2f}'.format(x,y))\n",
    "\n",
    "# Trade #2\n",
    "# Generate random delta denomenated in Native token, \n",
    "# rebalance respective accounts and convert to T1\n",
    "delta_x = cpt.random_delta(500)\n",
    "\n",
    "T1.deposit(-delta_x, t1Address)\n",
    "TDT.deposit(delta_x, tdtAddress)\n",
    "\n",
    "delta_x = Convert(1/native_T1_rate).apply(delta_x)\n",
    "\n",
    "L = liq.update(delta_x); p = np.random.normal(5,0.1,1)[0]\n",
    "plotCurve.apply_next(p, L, 'L = {}, p = {}'.format(int(L),p))\n",
    "plotCurve.plot_trade(p, delta_x, 'r--')\n",
    "\n",
    "x = T1.get_balance_deposits()\n",
    "y = TDT.get_balance_deposits()\n",
    "\n",
    "print('[Trade 2] T1: {:.2f} TDT: {:.2f}'.format(x,y))"
   ]
  }
 ],
 "metadata": {
  "kernelspec": {
   "display_name": "Python 3 (ipykernel)",
   "language": "python",
   "name": "python3"
  },
  "language_info": {
   "codemirror_mode": {
    "name": "ipython",
    "version": 3
   },
   "file_extension": ".py",
   "mimetype": "text/x-python",
   "name": "python",
   "nbconvert_exporter": "python",
   "pygments_lexer": "ipython3",
   "version": "3.9.7"
  }
 },
 "nbformat": 4,
 "nbformat_minor": 5
}
