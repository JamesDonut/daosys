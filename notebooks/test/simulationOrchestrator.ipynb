{
 "cells": [
  {
   "cell_type": "markdown",
   "id": "77a0c42f-8f14-48ac-b6f8-d6325a5c30c6",
   "metadata": {},
   "source": [
    "### Task: Build Simulation Orchestrator\n",
    "* https://docs.python.org/3/c-api/reflection.html"
   ]
  },
  {
   "cell_type": "code",
   "execution_count": 1,
   "id": "38a21657-03af-4faa-8873-304282b65fe2",
   "metadata": {},
   "outputs": [],
   "source": [
    "import os\n",
    "import copy\n",
    "import numpy as np\n",
    "import time\n",
    "import matplotlib.pyplot as plt\n",
    "cwd =  os.getcwd().replace(\"notebooks/test\",\"\")\n",
    "os.chdir(cwd)\n",
    "\n",
    "from python.dev.event import Deposit\n",
    "from python.dev.event import Withdraw\n",
    "from python.dev.cpt import Liquidity\n",
    "from python.dev.token import RebaseToken\n",
    "from python.dev.token import Token\n",
    "from python.dev.math.model import TimeDeltaModel\n",
    "from python.dev.math.model import TokenDeltaModel\n",
    "from python.dev.simulation import SimulationOrchestrator"
   ]
  },
  {
   "cell_type": "code",
   "execution_count": 4,
   "id": "f8f1a8aa-9ad5-4784-92f4-37e210d40bf9",
   "metadata": {},
   "outputs": [],
   "source": [
    "import queue\n",
    "q1 = queue.LifoQueue()\n",
    "\n",
    "for i in range(20):\n",
    "    q1.put(i) # this will additem from 0 to 20 to the queue\n"
   ]
  },
  {
   "cell_type": "code",
   "execution_count": 7,
   "id": "e9644644-dc8d-4b6f-ae02-9215c8b7d620",
   "metadata": {},
   "outputs": [
    {
     "data": {
      "text/plain": [
       "20"
      ]
     },
     "execution_count": 7,
     "metadata": {},
     "output_type": "execute_result"
    }
   ],
   "source": [
    "q1.qsize()"
   ]
  },
  {
   "cell_type": "code",
   "execution_count": 2,
   "id": "31d328e6-ba65-49a9-b68b-e01429b37b53",
   "metadata": {},
   "outputs": [],
   "source": [
    "TYPE_DEPOSIT_TOKEN = 'DEPOSIT'\n",
    "\n",
    "target = RebaseToken(TYPE_DEPOSIT_TOKEN)\n",
    "\n",
    "sim = SimulationOrchestrator(target)"
   ]
  }
 ],
 "metadata": {
  "kernelspec": {
   "display_name": "Python 3 (ipykernel)",
   "language": "python",
   "name": "python3"
  },
  "language_info": {
   "codemirror_mode": {
    "name": "ipython",
    "version": 3
   },
   "file_extension": ".py",
   "mimetype": "text/x-python",
   "name": "python",
   "nbconvert_exporter": "python",
   "pygments_lexer": "ipython3",
   "version": "3.9.7"
  }
 },
 "nbformat": 4,
 "nbformat_minor": 5
}
